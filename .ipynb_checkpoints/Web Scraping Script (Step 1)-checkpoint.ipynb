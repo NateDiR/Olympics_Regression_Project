{
 "cells": [
  {
   "cell_type": "code",
   "execution_count": 1,
   "id": "5ca0e9ca",
   "metadata": {
    "scrolled": true
   },
   "outputs": [],
   "source": [
    "%reset -fs\n",
    "import pandas as pd\n",
    "import seaborn as sns\n",
    "import numpy as np\n",
    "import requests\n",
    "import time, os\n",
    "from bs4 import BeautifulSoup\n",
    "import datetime\n",
    "import re\n",
    "from datetime import date\n",
    "from selenium import webdriver\n",
    "from selenium.webdriver.common.action_chains import ActionChains\n",
    "from selenium.common.exceptions import NoSuchElementException\n",
    "pd.set_option('display.width', 1000)\n",
    "pd.set_option('display.max_columns', None)"
   ]
  },
  {
   "cell_type": "code",
   "execution_count": 2,
   "id": "797dab86",
   "metadata": {
    "scrolled": true
   },
   "outputs": [],
   "source": [
    "chromedriver = \"/Applications/chromedriver\"\n",
    "os.environ['webdriver.chrome.driver'] = chromedriver"
   ]
  },
  {
   "cell_type": "code",
   "execution_count": 3,
   "id": "3621f5c9",
   "metadata": {
    "scrolled": true
   },
   "outputs": [],
   "source": [
    "driver = webdriver.Chrome(chromedriver)"
   ]
  },
  {
   "cell_type": "code",
   "execution_count": 4,
   "id": "c7413d61",
   "metadata": {
    "scrolled": true
   },
   "outputs": [],
   "source": [
    "bet_search =  'https://www.bettingpros.com/nba/picks/prop-bets/bet/points/'\n",
    "query = '?date=' + datetime.date(2021, 10, 19).strftime('%Y-%m-%d')\n",
    "bet_query = bet_search + query"
   ]
  },
  {
   "cell_type": "code",
   "execution_count": 5,
   "id": "244fbf6c",
   "metadata": {
    "scrolled": true
   },
   "outputs": [],
   "source": [
    "base = datetime.datetime.today()\n",
    "delta = base - datetime.datetime(2021, 10, 19)\n",
    "date_list = [base - datetime.timedelta(days=x) for x in range(delta.days+1)]\n",
    "date_list = [d.strftime('%Y-%m-%d') for d in date_list]"
   ]
  },
  {
   "cell_type": "code",
   "execution_count": 6,
   "id": "193e8feb",
   "metadata": {
    "scrolled": true
   },
   "outputs": [],
   "source": [
    "bet_query = bet_search + '?date=' + '2021-12-20'\n",
    "driver.get(bet_query)\n",
    "soup = BeautifulSoup(driver.page_source, 'html.parser')"
   ]
  },
  {
   "cell_type": "code",
   "execution_count": 7,
   "id": "3125f00c",
   "metadata": {
    "scrolled": true
   },
   "outputs": [],
   "source": [
    "#run this initially; then don't run again if you just want to keep adding to it\n",
    "final_df = pd.DataFrame()"
   ]
  },
  {
   "cell_type": "code",
   "execution_count": 8,
   "id": "f6a274f0",
   "metadata": {
    "scrolled": true
   },
   "outputs": [],
   "source": [
    "# Tip of the hat to Rita for helping with these two functions !\n",
    "def get_site_rb(date):\n",
    "    bet_query = bet_search + '?date=' + date\n",
    "    driver.get(bet_query)\n",
    "    time.sleep(5)\n",
    "    try:\n",
    "        element = driver.find_element_by_xpath('//*[@id=\"onetrust-accept-btn-handler\"]')\n",
    "        action = ActionChains(driver)\n",
    "        action.move_to_element(element).click().perform()\n",
    "    except:\n",
    "        pass\n",
    "    get_data_rb()\n"
   ]
  },
  {
   "cell_type": "code",
   "execution_count": 9,
   "id": "00fe54d2",
   "metadata": {
    "scrolled": true
   },
   "outputs": [],
   "source": [
    "def get_data_rb():\n",
    "    data_str = []\n",
    "    data = []\n",
    "    li = []\n",
    "    soup = BeautifulSoup(driver.page_source, 'html.parser')\n",
    "    table = soup.find('table')\n",
    "    date = soup.find('h1').text\n",
    "    date = date.split(\" \")[5]\n",
    "    date.strip(')')\n",
    "    date = date.replace('(',\"\").replace(')',\"\")\n",
    "    house_accuracy = soup.find('div', class_='best-props__accuracy').text\n",
    "    table_data = table.tbody.find_all('tr')\n",
    "    for tr in table_data:\n",
    "        data_str.append(tr.text.replace('\\n', ' ').strip())\n",
    "    for i in data_str:\n",
    "        li = list(i.split('            '))\n",
    "        data.append(li)\n",
    "    for i in data:\n",
    "        if len(i) == 7:\n",
    "            i.append('TBD')\n",
    "            i.append(date)\n",
    "            i.append(house_accuracy)\n",
    "        else:\n",
    "            i.append(date)\n",
    "            i.append(house_accuracy)\n",
    "    global final_df\n",
    "    final_df = final_df.append(pd.DataFrame(data))\n",
    "    time.sleep(1)\n",
    "\n",
    "    try:\n",
    "        page_progress = driver.find_element_by_xpath('//div[contains(@class, \"table__pagination\")]').text.strip(\"«\").strip(\"»\").strip()\n",
    "        if int(page_progress[5]) == int(page_progress[10]):\n",
    "            return final_df\n",
    "        else:\n",
    "            element = driver.find_element_by_xpath('/html/body/div[2]/main/div/div/div/div[4]/div/div/a[2]')\n",
    "            action = ActionChains(driver)\n",
    "            action.move_to_element(element).click().perform()\n",
    "            time.sleep(3)\n",
    "            get_data_rb()\n",
    "    except:\n",
    "        return final_df\n"
   ]
  },
  {
   "cell_type": "code",
   "execution_count": 10,
   "id": "235eddb0",
   "metadata": {
    "scrolled": true
   },
   "outputs": [],
   "source": [
    "#run this and then close the cookies pop-up!\n",
    "for i in date_list:\n",
    "    \n",
    "    if i == '2021-12-24':\n",
    "        continue\n",
    "    if i == '2021-11-25':\n",
    "        continue\n",
    "    get_site_rb(i)"
   ]
  },
  {
   "cell_type": "code",
   "execution_count": 11,
   "id": "962ae3a2",
   "metadata": {
    "scrolled": true
   },
   "outputs": [],
   "source": [
    "driver.close()"
   ]
  },
  {
   "cell_type": "code",
   "execution_count": 12,
   "id": "9068352b",
   "metadata": {
    "scrolled": true
   },
   "outputs": [],
   "source": [
    "#Clean up below\n",
    "final_df.columns=['Name', 'Team', 'Opp', 'Type', 'Line', 'Pick', 'Moneyline', 'Result', 'Date', 'Accuracy']"
   ]
  },
  {
   "cell_type": "code",
   "execution_count": 13,
   "id": "73d1cf4b",
   "metadata": {
    "scrolled": true
   },
   "outputs": [],
   "source": [
    "player_name = final_df.Name.str.split(\" \", expand = True)\n",
    "final_df['Name'] = player_name[2] + ' ' + player_name[4]"
   ]
  },
  {
   "cell_type": "code",
   "execution_count": 14,
   "id": "7908d387",
   "metadata": {
    "scrolled": true
   },
   "outputs": [],
   "source": [
    "final_df.reset_index(inplace=True, drop=True)"
   ]
  },
  {
   "cell_type": "code",
   "execution_count": 15,
   "id": "e24a7f09",
   "metadata": {
    "scrolled": true
   },
   "outputs": [
    {
     "ename": "KeyError",
     "evalue": "\"['index'] not found in axis\"",
     "output_type": "error",
     "traceback": [
      "\u001b[0;31m---------------------------------------------------------------------------\u001b[0m",
      "\u001b[0;31mKeyError\u001b[0m                                  Traceback (most recent call last)",
      "\u001b[0;32m/var/folders/36/w8jclnw52p3d1qr2544j3lth0000gn/T/ipykernel_86373/3122336720.py\u001b[0m in \u001b[0;36m<module>\u001b[0;34m\u001b[0m\n\u001b[0;32m----> 1\u001b[0;31m \u001b[0mfinal_df\u001b[0m\u001b[0;34m.\u001b[0m\u001b[0mdrop\u001b[0m\u001b[0;34m(\u001b[0m\u001b[0mcolumns\u001b[0m\u001b[0;34m=\u001b[0m\u001b[0;34m[\u001b[0m\u001b[0;34m'index'\u001b[0m\u001b[0;34m]\u001b[0m\u001b[0;34m,\u001b[0m \u001b[0minplace\u001b[0m\u001b[0;34m=\u001b[0m\u001b[0;32mTrue\u001b[0m\u001b[0;34m)\u001b[0m\u001b[0;34m\u001b[0m\u001b[0;34m\u001b[0m\u001b[0m\n\u001b[0m",
      "\u001b[0;32m~/opt/anaconda3/envs/metis/lib/python3.9/site-packages/pandas/util/_decorators.py\u001b[0m in \u001b[0;36mwrapper\u001b[0;34m(*args, **kwargs)\u001b[0m\n\u001b[1;32m    309\u001b[0m                     \u001b[0mstacklevel\u001b[0m\u001b[0;34m=\u001b[0m\u001b[0mstacklevel\u001b[0m\u001b[0;34m,\u001b[0m\u001b[0;34m\u001b[0m\u001b[0;34m\u001b[0m\u001b[0m\n\u001b[1;32m    310\u001b[0m                 )\n\u001b[0;32m--> 311\u001b[0;31m             \u001b[0;32mreturn\u001b[0m \u001b[0mfunc\u001b[0m\u001b[0;34m(\u001b[0m\u001b[0;34m*\u001b[0m\u001b[0margs\u001b[0m\u001b[0;34m,\u001b[0m \u001b[0;34m**\u001b[0m\u001b[0mkwargs\u001b[0m\u001b[0;34m)\u001b[0m\u001b[0;34m\u001b[0m\u001b[0;34m\u001b[0m\u001b[0m\n\u001b[0m\u001b[1;32m    312\u001b[0m \u001b[0;34m\u001b[0m\u001b[0m\n\u001b[1;32m    313\u001b[0m         \u001b[0;32mreturn\u001b[0m \u001b[0mwrapper\u001b[0m\u001b[0;34m\u001b[0m\u001b[0;34m\u001b[0m\u001b[0m\n",
      "\u001b[0;32m~/opt/anaconda3/envs/metis/lib/python3.9/site-packages/pandas/core/frame.py\u001b[0m in \u001b[0;36mdrop\u001b[0;34m(self, labels, axis, index, columns, level, inplace, errors)\u001b[0m\n\u001b[1;32m   4904\u001b[0m                 \u001b[0mweight\u001b[0m  \u001b[0;36m1.0\u001b[0m     \u001b[0;36m0.8\u001b[0m\u001b[0;34m\u001b[0m\u001b[0;34m\u001b[0m\u001b[0m\n\u001b[1;32m   4905\u001b[0m         \"\"\"\n\u001b[0;32m-> 4906\u001b[0;31m         return super().drop(\n\u001b[0m\u001b[1;32m   4907\u001b[0m             \u001b[0mlabels\u001b[0m\u001b[0;34m=\u001b[0m\u001b[0mlabels\u001b[0m\u001b[0;34m,\u001b[0m\u001b[0;34m\u001b[0m\u001b[0;34m\u001b[0m\u001b[0m\n\u001b[1;32m   4908\u001b[0m             \u001b[0maxis\u001b[0m\u001b[0;34m=\u001b[0m\u001b[0maxis\u001b[0m\u001b[0;34m,\u001b[0m\u001b[0;34m\u001b[0m\u001b[0;34m\u001b[0m\u001b[0m\n",
      "\u001b[0;32m~/opt/anaconda3/envs/metis/lib/python3.9/site-packages/pandas/core/generic.py\u001b[0m in \u001b[0;36mdrop\u001b[0;34m(self, labels, axis, index, columns, level, inplace, errors)\u001b[0m\n\u001b[1;32m   4148\u001b[0m         \u001b[0;32mfor\u001b[0m \u001b[0maxis\u001b[0m\u001b[0;34m,\u001b[0m \u001b[0mlabels\u001b[0m \u001b[0;32min\u001b[0m \u001b[0maxes\u001b[0m\u001b[0;34m.\u001b[0m\u001b[0mitems\u001b[0m\u001b[0;34m(\u001b[0m\u001b[0;34m)\u001b[0m\u001b[0;34m:\u001b[0m\u001b[0;34m\u001b[0m\u001b[0;34m\u001b[0m\u001b[0m\n\u001b[1;32m   4149\u001b[0m             \u001b[0;32mif\u001b[0m \u001b[0mlabels\u001b[0m \u001b[0;32mis\u001b[0m \u001b[0;32mnot\u001b[0m \u001b[0;32mNone\u001b[0m\u001b[0;34m:\u001b[0m\u001b[0;34m\u001b[0m\u001b[0;34m\u001b[0m\u001b[0m\n\u001b[0;32m-> 4150\u001b[0;31m                 \u001b[0mobj\u001b[0m \u001b[0;34m=\u001b[0m \u001b[0mobj\u001b[0m\u001b[0;34m.\u001b[0m\u001b[0m_drop_axis\u001b[0m\u001b[0;34m(\u001b[0m\u001b[0mlabels\u001b[0m\u001b[0;34m,\u001b[0m \u001b[0maxis\u001b[0m\u001b[0;34m,\u001b[0m \u001b[0mlevel\u001b[0m\u001b[0;34m=\u001b[0m\u001b[0mlevel\u001b[0m\u001b[0;34m,\u001b[0m \u001b[0merrors\u001b[0m\u001b[0;34m=\u001b[0m\u001b[0merrors\u001b[0m\u001b[0;34m)\u001b[0m\u001b[0;34m\u001b[0m\u001b[0;34m\u001b[0m\u001b[0m\n\u001b[0m\u001b[1;32m   4151\u001b[0m \u001b[0;34m\u001b[0m\u001b[0m\n\u001b[1;32m   4152\u001b[0m         \u001b[0;32mif\u001b[0m \u001b[0minplace\u001b[0m\u001b[0;34m:\u001b[0m\u001b[0;34m\u001b[0m\u001b[0;34m\u001b[0m\u001b[0m\n",
      "\u001b[0;32m~/opt/anaconda3/envs/metis/lib/python3.9/site-packages/pandas/core/generic.py\u001b[0m in \u001b[0;36m_drop_axis\u001b[0;34m(self, labels, axis, level, errors)\u001b[0m\n\u001b[1;32m   4183\u001b[0m                 \u001b[0mnew_axis\u001b[0m \u001b[0;34m=\u001b[0m \u001b[0maxis\u001b[0m\u001b[0;34m.\u001b[0m\u001b[0mdrop\u001b[0m\u001b[0;34m(\u001b[0m\u001b[0mlabels\u001b[0m\u001b[0;34m,\u001b[0m \u001b[0mlevel\u001b[0m\u001b[0;34m=\u001b[0m\u001b[0mlevel\u001b[0m\u001b[0;34m,\u001b[0m \u001b[0merrors\u001b[0m\u001b[0;34m=\u001b[0m\u001b[0merrors\u001b[0m\u001b[0;34m)\u001b[0m\u001b[0;34m\u001b[0m\u001b[0;34m\u001b[0m\u001b[0m\n\u001b[1;32m   4184\u001b[0m             \u001b[0;32melse\u001b[0m\u001b[0;34m:\u001b[0m\u001b[0;34m\u001b[0m\u001b[0;34m\u001b[0m\u001b[0m\n\u001b[0;32m-> 4185\u001b[0;31m                 \u001b[0mnew_axis\u001b[0m \u001b[0;34m=\u001b[0m \u001b[0maxis\u001b[0m\u001b[0;34m.\u001b[0m\u001b[0mdrop\u001b[0m\u001b[0;34m(\u001b[0m\u001b[0mlabels\u001b[0m\u001b[0;34m,\u001b[0m \u001b[0merrors\u001b[0m\u001b[0;34m=\u001b[0m\u001b[0merrors\u001b[0m\u001b[0;34m)\u001b[0m\u001b[0;34m\u001b[0m\u001b[0;34m\u001b[0m\u001b[0m\n\u001b[0m\u001b[1;32m   4186\u001b[0m             \u001b[0mresult\u001b[0m \u001b[0;34m=\u001b[0m \u001b[0mself\u001b[0m\u001b[0;34m.\u001b[0m\u001b[0mreindex\u001b[0m\u001b[0;34m(\u001b[0m\u001b[0;34m**\u001b[0m\u001b[0;34m{\u001b[0m\u001b[0maxis_name\u001b[0m\u001b[0;34m:\u001b[0m \u001b[0mnew_axis\u001b[0m\u001b[0;34m}\u001b[0m\u001b[0;34m)\u001b[0m\u001b[0;34m\u001b[0m\u001b[0;34m\u001b[0m\u001b[0m\n\u001b[1;32m   4187\u001b[0m \u001b[0;34m\u001b[0m\u001b[0m\n",
      "\u001b[0;32m~/opt/anaconda3/envs/metis/lib/python3.9/site-packages/pandas/core/indexes/base.py\u001b[0m in \u001b[0;36mdrop\u001b[0;34m(self, labels, errors)\u001b[0m\n\u001b[1;32m   6015\u001b[0m         \u001b[0;32mif\u001b[0m \u001b[0mmask\u001b[0m\u001b[0;34m.\u001b[0m\u001b[0many\u001b[0m\u001b[0;34m(\u001b[0m\u001b[0;34m)\u001b[0m\u001b[0;34m:\u001b[0m\u001b[0;34m\u001b[0m\u001b[0;34m\u001b[0m\u001b[0m\n\u001b[1;32m   6016\u001b[0m             \u001b[0;32mif\u001b[0m \u001b[0merrors\u001b[0m \u001b[0;34m!=\u001b[0m \u001b[0;34m\"ignore\"\u001b[0m\u001b[0;34m:\u001b[0m\u001b[0;34m\u001b[0m\u001b[0;34m\u001b[0m\u001b[0m\n\u001b[0;32m-> 6017\u001b[0;31m                 \u001b[0;32mraise\u001b[0m \u001b[0mKeyError\u001b[0m\u001b[0;34m(\u001b[0m\u001b[0;34mf\"{labels[mask]} not found in axis\"\u001b[0m\u001b[0;34m)\u001b[0m\u001b[0;34m\u001b[0m\u001b[0;34m\u001b[0m\u001b[0m\n\u001b[0m\u001b[1;32m   6018\u001b[0m             \u001b[0mindexer\u001b[0m \u001b[0;34m=\u001b[0m \u001b[0mindexer\u001b[0m\u001b[0;34m[\u001b[0m\u001b[0;34m~\u001b[0m\u001b[0mmask\u001b[0m\u001b[0;34m]\u001b[0m\u001b[0;34m\u001b[0m\u001b[0;34m\u001b[0m\u001b[0m\n\u001b[1;32m   6019\u001b[0m         \u001b[0;32mreturn\u001b[0m \u001b[0mself\u001b[0m\u001b[0;34m.\u001b[0m\u001b[0mdelete\u001b[0m\u001b[0;34m(\u001b[0m\u001b[0mindexer\u001b[0m\u001b[0;34m)\u001b[0m\u001b[0;34m\u001b[0m\u001b[0;34m\u001b[0m\u001b[0m\n",
      "\u001b[0;31mKeyError\u001b[0m: \"['index'] not found in axis\""
     ]
    }
   ],
   "source": [
    "final_df.drop(columns=['index'], inplace=True)"
   ]
  },
  {
   "cell_type": "code",
   "execution_count": null,
   "id": "38cbb683",
   "metadata": {
    "scrolled": true
   },
   "outputs": [],
   "source": [
    "team = final_df.Team.str.split(\" \", expand = True)"
   ]
  },
  {
   "cell_type": "code",
   "execution_count": null,
   "id": "7f280afa",
   "metadata": {
    "scrolled": true
   },
   "outputs": [],
   "source": [
    "final_df['Team'] = team[0]\n",
    "final_df['Position'] = team[2]"
   ]
  },
  {
   "cell_type": "code",
   "execution_count": null,
   "id": "d694206e",
   "metadata": {
    "scrolled": true
   },
   "outputs": [],
   "source": [
    "opp = final_df.Opp.str.split(\" \", expand = True)"
   ]
  },
  {
   "cell_type": "code",
   "execution_count": null,
   "id": "ee3df8f4",
   "metadata": {
    "scrolled": true
   },
   "outputs": [],
   "source": [
    "final_df.Opp = opp[1]\n",
    "final_df['Home/Away'] = opp[0]"
   ]
  },
  {
   "cell_type": "code",
   "execution_count": null,
   "id": "9a357447",
   "metadata": {
    "scrolled": true
   },
   "outputs": [],
   "source": [
    "bet_info = final_df.Line.str.split(\" \", expand = True)"
   ]
  },
  {
   "cell_type": "code",
   "execution_count": null,
   "id": "6834d7b8",
   "metadata": {
    "scrolled": true
   },
   "outputs": [],
   "source": [
    "final_df['Line'] = bet_info[7]\n",
    "final_df['Projection'] = bet_info[15]\n",
    "final_df['Diff'] = bet_info[9]\n",
    "final_df['Moneyline'] = bet_info[13]\n",
    "final_df['over_under'] = bet_info[16]\n",
    "final_df['over_under'] = final_df['over_under'].fillna('o')"
   ]
  },
  {
   "cell_type": "code",
   "execution_count": null,
   "id": "bd585653",
   "metadata": {
    "scrolled": true
   },
   "outputs": [],
   "source": [
    "final_df = final_df[['Date', 'Name', 'Team', 'Position', 'Opp','Home/Away', 'Line', 'Moneyline', 'Projection', 'Diff', 'Pick', 'Result', 'Accuracy', 'over_under']]"
   ]
  },
  {
   "cell_type": "code",
   "execution_count": null,
   "id": "65d9900b",
   "metadata": {
    "scrolled": true
   },
   "outputs": [],
   "source": [
    "final_df['Projection'] = final_df['Projection'].map(lambda x: x.rstrip('ou'))"
   ]
  },
  {
   "cell_type": "code",
   "execution_count": null,
   "id": "f8e20d1c",
   "metadata": {
    "scrolled": true
   },
   "outputs": [],
   "source": [
    "accuracies = final_df.Accuracy.str.split(\" \", expand = True)"
   ]
  },
  {
   "cell_type": "code",
   "execution_count": null,
   "id": "b0672ae5",
   "metadata": {
    "scrolled": false
   },
   "outputs": [],
   "source": [
    "final_df['seven_day_accuracy'] = accuracies[8]"
   ]
  },
  {
   "cell_type": "code",
   "execution_count": null,
   "id": "14816398",
   "metadata": {
    "scrolled": false
   },
   "outputs": [],
   "source": [
    "final_df['seven_day_accuracy'] = final_df['seven_day_accuracy'].map(lambda x: x.lstrip('(').rstrip('%)'))"
   ]
  },
  {
   "cell_type": "code",
   "execution_count": null,
   "id": "f4e1a8e9",
   "metadata": {
    "scrolled": true
   },
   "outputs": [],
   "source": [
    "final_df.seven_day_accuracy = final_df.seven_day_accuracy.replace('', 50, regex=True)"
   ]
  },
  {
   "cell_type": "code",
   "execution_count": null,
   "id": "e610cba1",
   "metadata": {
    "scrolled": true
   },
   "outputs": [],
   "source": [
    "final_df['seven_day_accuracy'] = pd.to_numeric(final_df['seven_day_accuracy'])"
   ]
  },
  {
   "cell_type": "code",
   "execution_count": null,
   "id": "31b410a9",
   "metadata": {
    "scrolled": false
   },
   "outputs": [],
   "source": [
    "final_df['seven_day_accuracy'] = final_df['seven_day_accuracy'].map(lambda x: x/100)"
   ]
  },
  {
   "cell_type": "code",
   "execution_count": null,
   "id": "ab5074ca",
   "metadata": {
    "scrolled": true
   },
   "outputs": [],
   "source": [
    "final_df.drop(columns=['Accuracy'], inplace=True)"
   ]
  },
  {
   "cell_type": "code",
   "execution_count": null,
   "id": "7ce36d3b",
   "metadata": {},
   "outputs": [],
   "source": [
    "final_df['Date'] = pd.to_datetime(final_df['Date'])"
   ]
  },
  {
   "cell_type": "code",
   "execution_count": null,
   "id": "455441a4",
   "metadata": {
    "scrolled": true
   },
   "outputs": [],
   "source": [
    "# Final form betting df, additional cleaning and saving to csv below\n",
    "sorted_df = final_df.sort_values(by=['Name', 'Date'])\n",
    "sorted_df.reset_index(inplace=True, drop=True)"
   ]
  },
  {
   "cell_type": "code",
   "execution_count": null,
   "id": "e42b4a0c",
   "metadata": {
    "scrolled": true
   },
   "outputs": [],
   "source": [
    "sorted_df['Line'] = pd.to_numeric(sorted_df.Line)"
   ]
  },
  {
   "cell_type": "code",
   "execution_count": null,
   "id": "f25158a9",
   "metadata": {
    "scrolled": true
   },
   "outputs": [],
   "source": [
    "sorted_df = sorted_df.replace('EVEN', '+100')"
   ]
  },
  {
   "cell_type": "code",
   "execution_count": null,
   "id": "1fb9ac8f",
   "metadata": {
    "scrolled": false
   },
   "outputs": [],
   "source": [
    "sorted_df = sorted_df.replace('TBD', np.nan)"
   ]
  },
  {
   "cell_type": "code",
   "execution_count": null,
   "id": "da39c6be",
   "metadata": {
    "scrolled": true
   },
   "outputs": [],
   "source": [
    "sorted_df['Moneyline'] = pd.to_numeric(sorted_df.Moneyline)"
   ]
  },
  {
   "cell_type": "code",
   "execution_count": null,
   "id": "5158b498",
   "metadata": {},
   "outputs": [],
   "source": [
    "sorted_df['Result'] = sorted_df.Result.apply(lambda x: str(x));sorted_df"
   ]
  },
  {
   "cell_type": "code",
   "execution_count": null,
   "id": "45b053d0",
   "metadata": {},
   "outputs": [],
   "source": [
    "results = sorted_df.Result.str.split(' ', expand=True);"
   ]
  },
  {
   "cell_type": "code",
   "execution_count": null,
   "id": "7a45859e",
   "metadata": {},
   "outputs": [],
   "source": [
    "sorted_df.Result = results[5]"
   ]
  },
  {
   "cell_type": "code",
   "execution_count": null,
   "id": "bd77c572",
   "metadata": {
    "scrolled": true
   },
   "outputs": [],
   "source": [
    "sorted_df['Projection'] = pd.to_numeric(sorted_df.Projection)\n",
    "sorted_df['Diff'] = pd.to_numeric(sorted_df.Diff)\n",
    "sorted_df['Result'] = pd.to_numeric(sorted_df.Result)\n",
    "sorted_df['Pick'] = pd.to_numeric(sorted_df.Pick)"
   ]
  },
  {
   "cell_type": "code",
   "execution_count": null,
   "id": "8d9abb2e",
   "metadata": {
    "scrolled": true
   },
   "outputs": [],
   "source": [
    "# Determine if website pick was a win or loss (for fun, potential spinoff angle).\n",
    "conditions = [\n",
    "    ((sorted_df['Result'] < sorted_df['Pick']) & (sorted_df['over_under'] == 'u')),\n",
    "    ((sorted_df['Result'] < sorted_df['Pick']) & (sorted_df['over_under'] == 'o')),\n",
    "    ((sorted_df['Result'] > sorted_df['Pick']) & (sorted_df['over_under'] =='o')),\n",
    "    ((sorted_df['Result'] > sorted_df['Pick']) & (sorted_df['over_under'] == 'u'))\n",
    "    ]\n",
    "\n",
    "# create a list of the values we want to assign for each condition\n",
    "values = ['1', '0', '1', '0']\n",
    "\n",
    "# create a new column and use np.select to assign values to it using our lists as arguments\n",
    "sorted_df['successful_pick'] = np.select(conditions, values)"
   ]
  },
  {
   "cell_type": "code",
   "execution_count": null,
   "id": "54f51cf8",
   "metadata": {
    "scrolled": true
   },
   "outputs": [],
   "source": [
    "sorted_df.to_csv('betting_data.csv')"
   ]
  }
 ],
 "metadata": {
  "kernelspec": {
   "display_name": "Python [conda env:metis] *",
   "language": "python",
   "name": "conda-env-metis-py"
  },
  "language_info": {
   "codemirror_mode": {
    "name": "ipython",
    "version": 3
   },
   "file_extension": ".py",
   "mimetype": "text/x-python",
   "name": "python",
   "nbconvert_exporter": "python",
   "pygments_lexer": "ipython3",
   "version": "3.9.7"
  }
 },
 "nbformat": 4,
 "nbformat_minor": 5
}
