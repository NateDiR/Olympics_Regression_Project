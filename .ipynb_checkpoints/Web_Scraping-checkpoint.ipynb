{
 "cells": [
  {
   "cell_type": "code",
   "execution_count": 9,
   "id": "5ca0e9ca",
   "metadata": {},
   "outputs": [],
   "source": [
    "%reset -fs\n",
    "import pandas as pd\n",
    "import seaborn as sns\n",
    "import numpy as np\n",
    "import requests\n",
    "import time, os\n",
    "from bs4 import BeautifulSoup\n",
    "import datetime\n",
    "import re\n",
    "from datetime import date\n",
    "from selenium import webdriver\n",
    "from selenium.webdriver.common.action_chains import ActionChains\n",
    "from selenium.common.exceptions import NoSuchElementException\n",
    "pd.set_option('display.width', 1000)\n",
    "pd.set_option('display.max_columns', 500)"
   ]
  },
  {
   "cell_type": "code",
   "execution_count": 10,
   "id": "797dab86",
   "metadata": {},
   "outputs": [],
   "source": [
    "chromedriver = \"/Applications/chromedriver\"\n",
    "os.environ['webdriver.chrome.driver'] = chromedriver"
   ]
  },
  {
   "cell_type": "code",
   "execution_count": 11,
   "id": "ed48f320",
   "metadata": {},
   "outputs": [],
   "source": [
    "driver = webdriver.Chrome(chromedriver)"
   ]
  },
  {
   "cell_type": "code",
   "execution_count": 12,
   "id": "c7413d61",
   "metadata": {},
   "outputs": [],
   "source": [
    "bet_search =  'https://www.bettingpros.com/nba/picks/prop-bets/bet/points/'\n",
    "query = '?date=' + datetime.date(2021, 10, 19).strftime('%Y-%m-%d')\n",
    "bet_query = bet_search + query"
   ]
  },
  {
   "cell_type": "code",
   "execution_count": 13,
   "id": "244fbf6c",
   "metadata": {},
   "outputs": [],
   "source": [
    "base = datetime.datetime.today()\n",
    "delta = base - datetime.datetime(2021, 10, 19)\n",
    "date_list = [base - datetime.timedelta(days=x) for x in range(delta.days+1)]\n",
    "date_list = [d.strftime('%Y-%m-%d') for d in date_list]"
   ]
  },
  {
   "cell_type": "code",
   "execution_count": 14,
   "id": "193e8feb",
   "metadata": {},
   "outputs": [],
   "source": [
    "bet_query = bet_search + '?date=' + '2021-12-20'\n",
    "driver.get(bet_query)\n",
    "soup = BeautifulSoup(driver.page_source, 'html.parser')"
   ]
  },
  {
   "cell_type": "code",
   "execution_count": 15,
   "id": "12ed79b4",
   "metadata": {},
   "outputs": [],
   "source": [
    "# Attempt # 1 at getting all the pages of the JS table for each date's URL. Made decent progress here fizzled out in the while statement.\n",
    "def get_data(date):\n",
    "    data_str = []\n",
    "    data = []\n",
    "    li = []\n",
    "    final_df = pd.DataFrame()\n",
    "    bet_query = bet_search + '?date=' + date\n",
    "    driver.get(bet_query)\n",
    "    time.sleep(5)\n",
    "    soup = BeautifulSoup(driver.page_source, 'html.parser')\n",
    "    table = soup.find('table')\n",
    "    date = soup.find('h1').text\n",
    "    date = date.split(\" \")[5]\n",
    "    date.strip(')')\n",
    "    date = date.replace('(',\"\").replace(')',\"\")\n",
    "    house_accuracy = soup.find('div', class_='best-props__accuracy').text\n",
    "    table_data = table.tbody.find_all('tr')\n",
    "    for tr in table_data:\n",
    "        data_str.append(tr.text.replace('\\n', ' ').strip())\n",
    "    #for i in data_str:\n",
    "        #li = list(i.split('            '))\n",
    "        #data.append(li)\n",
    "    element = driver.find_element_by_xpath('//*[@id=\"props-app\"]/div/div/div[4]/div/div/a[2]')\n",
    "    action = ActionChains(driver)\n",
    "    action.move_to_element(element).click().perform()\n",
    "    time.sleep(3)\n",
    "    numberofpages =  driver.find_element_by_xpath(\"//*[starts-with(@class, 'table__pagination')]\")\n",
    "    numberofpages = numberofpages.text.split(' of ')[1].replace(' »','')\n",
    "    numberofpages = int(numberofpages)\n",
    "    \n",
    "\n",
    "    i = 0\n",
    "\n",
    "    while i < int(numberofpages):\n",
    "        element = driver.find_element_by_xpath('//*[@id=\"props-app\"]/div/div/div[4]/div/div/a[2]')\n",
    "        action = ActionChains(driver)\n",
    "        action.move_to_element(element).click().perform()\n",
    "        time.sleep(3)\n",
    "        table = soup.find('table')\n",
    "        date = soup.find('h1').text\n",
    "        date = date.split(\" \")[5]\n",
    "        date.strip(')')\n",
    "        date = date.replace('(',\"\").replace(')',\"\")\n",
    "        house_accuracy = soup.find('div', class_='best-props__accuracy').text\n",
    "        table_data = table.tbody.find_all('tr')\n",
    "        for tr in table_data:\n",
    "            data_str.append(tr.text.replace('\\n', ' ').strip())\n",
    "        for i in data_str:\n",
    "            li = list(i.split('            '))\n",
    "            data.append(li)\n",
    "        i += 1\n",
    "    for i in data:\n",
    "        if len(i) == 5:\n",
    "            i.append('TBD')\n",
    "            i.append(date)\n",
    "            i.append(house_accuracy)\n",
    "        else:\n",
    "            i.append(date)\n",
    "            i.append(house_accuracy)\n",
    "    final_df = final_df.append(pd.DataFrame(data))\n",
    "    return final_df"
   ]
  },
  {
   "cell_type": "code",
   "execution_count": null,
   "id": "f6438616",
   "metadata": {},
   "outputs": [],
   "source": [
    "# The working get_data fxn. Used for MVP data.\n",
    "def get_data(date):\n",
    "    data_str = []\n",
    "    data = []\n",
    "    li = []\n",
    "    final_df = pd.DataFrame()\n",
    "    bet_query = bet_search + '?date=' + date\n",
    "    driver.get(bet_query)\n",
    "    time.sleep(5)\n",
    "    soup = BeautifulSoup(driver.page_source, 'html.parser')\n",
    "    table = soup.find('table')\n",
    "    date = soup.find('h1').text\n",
    "    date = date.split(\" \")[5]\n",
    "    date.strip(')')\n",
    "    date = date.replace('(',\"\").replace(')',\"\")\n",
    "    house_accuracy = soup.find('div', class_='best-props__accuracy').text\n",
    "    table_data = table.tbody.find_all('tr')\n",
    "    for tr in table_data:\n",
    "        data_str.append(tr.text.replace('\\n', ' ').strip())\n",
    "    for i in data_str:\n",
    "        li = list(i.split('            '))\n",
    "        data.append(li)\n",
    "    for i in data:\n",
    "        if len(i) == 5:\n",
    "            i.append('TBD')\n",
    "            i.append(date)\n",
    "            i.append(house_accuracy)\n",
    "        else:\n",
    "            i.append(date)\n",
    "            i.append(house_accuracy)\n",
    "    final_df = final_df.append(pd.DataFrame(data))\n",
    "    return final_df\n"
   ]
  },
  {
   "cell_type": "code",
   "execution_count": null,
   "id": "2e836947",
   "metadata": {},
   "outputs": [],
   "source": [
    "  # This cell is a bunch of miscellaneous code\n",
    "   while True:\n",
    "    try:\n",
    "        driver.find_element_by_xpath('//*[@id=\"props-app\"]/div/div/div[4]/div/div/a[2]').click()\n",
    "        time.sleep(3)\n",
    "    except NoSuchElementException:\n",
    "        break\n",
    "    if len(driver.find_elements_by_class_name('table__pagination')) > 0:\n",
    "        element = driver.find_element_by_class_name('table_pagination')\n",
    "        action = ActionChains(driver)\n",
    "        action.move_to_element(element).click().perform()\n",
    "        time.sleep(3)\n",
    "        driver.execute_script('window.scrollTo(0, 0);')\n",
    "        table_2 = soup.find('table')\n",
    "        table_2_data = table_2.tbody.find_all('tr')\n",
    "        for tr in table_2_data:\n",
    "            data_str.append(tr.text.replace('\\n', ' ').strip())\n",
    "        if len(driver.find_elements_by_class_name('table__pagination')) > 0:\n",
    "            element = driver.find_element_by_class_name('table_pagination')\n",
    "            action = ActionChains(driver)\n",
    "            action.move_to_element(element).click().perform()\n",
    "            time.sleep(3)\n",
    "            driver.execute_script('window.scrollTo(0, 0);')\n",
    "            table_3 = soup.find('table')\n",
    "            table_3_data = table_3.tbody.find_all('tr')\n",
    "            for tr in table_3_data:\n",
    "                data_str.append(tr.text.replace('\\n', ' ').strip())\n",
    "            if len(driver.find_elements_by_class_name('table__pagination')) > 0:\n",
    "                element = driver.find_element_by_class_name('table_pagination')\n",
    "                action = ActionChains(driver)\n",
    "                action.move_to_element(element).click().perform()\n",
    "                time.sleep(3)\n",
    "                driver.execute_script('window.scrollTo(0, 0);')\n",
    "                table_4 = soup.find('table')\n",
    "                table_4_data = table_4.tbody.find_all('tr')\n",
    "                for tr in table_4_data:\n",
    "                    data_str.append(tr.text.replace('\\n', ' ').strip())\n",
    "    for i in data_str:\n",
    "        li = list(i.split('            '))\n",
    "        data.append(li)\n",
    "    for i in data:\n",
    "        if len(i) == 5:\n",
    "            i.append('TBD')\n",
    "            i.append(date)\n",
    "            i.append(season_to_date_accuracy)\n",
    "            i.append(seven_day_accuracy)\n",
    "        else:\n",
    "            i.append(date)\n",
    "            i.append(season_to_date_accuracy)\n",
    "            i.append(seven_day_accuracy)\n",
    "    final_df = final_df.append(pd.DataFrame(data))\n",
    "    return final_df\n"
   ]
  },
  {
   "cell_type": "code",
   "execution_count": 16,
   "id": "07f3bc88",
   "metadata": {
    "scrolled": true
   },
   "outputs": [
    {
     "ename": "TypeError",
     "evalue": "can only concatenate str (not \"int\") to str",
     "output_type": "error",
     "traceback": [
      "\u001b[0;31m---------------------------------------------------------------------------\u001b[0m",
      "\u001b[0;31mTypeError\u001b[0m                                 Traceback (most recent call last)",
      "\u001b[0;32m/var/folders/36/w8jclnw52p3d1qr2544j3lth0000gn/T/ipykernel_69047/4292568341.py\u001b[0m in \u001b[0;36m<module>\u001b[0;34m\u001b[0m\n\u001b[0;32m----> 1\u001b[0;31m \u001b[0mfinal_df\u001b[0m \u001b[0;34m=\u001b[0m \u001b[0mget_data\u001b[0m\u001b[0;34m(\u001b[0m\u001b[0;34m'2021-12-20'\u001b[0m\u001b[0;34m)\u001b[0m\u001b[0;34m\u001b[0m\u001b[0;34m\u001b[0m\u001b[0m\n\u001b[0m",
      "\u001b[0;32m/var/folders/36/w8jclnw52p3d1qr2544j3lth0000gn/T/ipykernel_69047/2195358875.py\u001b[0m in \u001b[0;36mget_data\u001b[0;34m(date)\u001b[0m\n\u001b[1;32m     49\u001b[0m             \u001b[0mli\u001b[0m \u001b[0;34m=\u001b[0m \u001b[0mlist\u001b[0m\u001b[0;34m(\u001b[0m\u001b[0mi\u001b[0m\u001b[0;34m.\u001b[0m\u001b[0msplit\u001b[0m\u001b[0;34m(\u001b[0m\u001b[0;34m'            '\u001b[0m\u001b[0;34m)\u001b[0m\u001b[0;34m)\u001b[0m\u001b[0;34m\u001b[0m\u001b[0;34m\u001b[0m\u001b[0m\n\u001b[1;32m     50\u001b[0m             \u001b[0mdata\u001b[0m\u001b[0;34m.\u001b[0m\u001b[0mappend\u001b[0m\u001b[0;34m(\u001b[0m\u001b[0mli\u001b[0m\u001b[0;34m)\u001b[0m\u001b[0;34m\u001b[0m\u001b[0;34m\u001b[0m\u001b[0m\n\u001b[0;32m---> 51\u001b[0;31m         \u001b[0mi\u001b[0m \u001b[0;34m+=\u001b[0m \u001b[0;36m1\u001b[0m\u001b[0;34m\u001b[0m\u001b[0;34m\u001b[0m\u001b[0m\n\u001b[0m\u001b[1;32m     52\u001b[0m     \u001b[0;32mfor\u001b[0m \u001b[0mi\u001b[0m \u001b[0;32min\u001b[0m \u001b[0mdata\u001b[0m\u001b[0;34m:\u001b[0m\u001b[0;34m\u001b[0m\u001b[0;34m\u001b[0m\u001b[0m\n\u001b[1;32m     53\u001b[0m         \u001b[0;32mif\u001b[0m \u001b[0mlen\u001b[0m\u001b[0;34m(\u001b[0m\u001b[0mi\u001b[0m\u001b[0;34m)\u001b[0m \u001b[0;34m==\u001b[0m \u001b[0;36m5\u001b[0m\u001b[0;34m:\u001b[0m\u001b[0;34m\u001b[0m\u001b[0;34m\u001b[0m\u001b[0m\n",
      "\u001b[0;31mTypeError\u001b[0m: can only concatenate str (not \"int\") to str"
     ]
    }
   ],
   "source": [
    "final_df = get_data('2021-12-20')"
   ]
  },
  {
   "cell_type": "code",
   "execution_count": null,
   "id": "d77b8c36",
   "metadata": {},
   "outputs": [],
   "source": [
    "# Single date output for MVP get_data fxn\n",
    "final_df"
   ]
  },
  {
   "cell_type": "code",
   "execution_count": null,
   "id": "a55fea64",
   "metadata": {},
   "outputs": [],
   "source": [
    "#Janky way to handle the two days so far when there are no games and therefore no JS table loads\n",
    "final_df = pd.DataFrame()\n",
    "for i in date_list:\n",
    "    if i == '2021-12-24':\n",
    "        continue\n",
    "    if i == '2021-11-25':\n",
    "        continue\n",
    "    \n",
    "    final_df = final_df.append(get_data(i))"
   ]
  },
  {
   "cell_type": "code",
   "execution_count": null,
   "id": "1a39d86d",
   "metadata": {
    "scrolled": false
   },
   "outputs": [],
   "source": [
    "# Raw output all dates\n",
    "final_df"
   ]
  },
  {
   "cell_type": "code",
   "execution_count": null,
   "id": "ebdc05f8",
   "metadata": {
    "scrolled": true
   },
   "outputs": [],
   "source": [
    "df = final_df.copy()\n",
    "df"
   ]
  },
  {
   "cell_type": "code",
   "execution_count": null,
   "id": "9068352b",
   "metadata": {},
   "outputs": [],
   "source": [
    "#Clean up below\n",
    "df.columns=['Name', 'Team', 'Opp', 'Type', 'Line', 'Result', 'Date', 'Accuracy']\n",
    "df"
   ]
  },
  {
   "cell_type": "code",
   "execution_count": null,
   "id": "73d1cf4b",
   "metadata": {},
   "outputs": [],
   "source": [
    "player_name = df.Name.str.split(\" \", expand = True)\n",
    "player_name\n",
    "df['Name'] = player_name[2] + ' ' + player_name[4]"
   ]
  },
  {
   "cell_type": "code",
   "execution_count": null,
   "id": "7908d387",
   "metadata": {},
   "outputs": [],
   "source": [
    "df.reset_index(inplace=True)"
   ]
  },
  {
   "cell_type": "code",
   "execution_count": null,
   "id": "d9b5080b",
   "metadata": {},
   "outputs": [],
   "source": [
    "df"
   ]
  },
  {
   "cell_type": "code",
   "execution_count": null,
   "id": "38cbb683",
   "metadata": {},
   "outputs": [],
   "source": [
    "team = df.Team.str.split(\" \", expand = True)\n",
    "team"
   ]
  },
  {
   "cell_type": "code",
   "execution_count": null,
   "id": "7f280afa",
   "metadata": {},
   "outputs": [],
   "source": [
    "df['Team'] = team[0]\n",
    "df['Position'] = team[2]\n",
    "df"
   ]
  },
  {
   "cell_type": "code",
   "execution_count": null,
   "id": "d694206e",
   "metadata": {},
   "outputs": [],
   "source": [
    "opp = df.Opp.str.split(\" \", expand = True)\n",
    "opp"
   ]
  },
  {
   "cell_type": "code",
   "execution_count": null,
   "id": "ee3df8f4",
   "metadata": {},
   "outputs": [],
   "source": [
    "df.Opp = opp[1]\n",
    "df['Home/Away'] = opp[0]\n",
    "df"
   ]
  },
  {
   "cell_type": "code",
   "execution_count": null,
   "id": "9a357447",
   "metadata": {},
   "outputs": [],
   "source": [
    "bet_info = df.Line.str.split(\" \", expand = True)\n",
    "bet_info"
   ]
  },
  {
   "cell_type": "code",
   "execution_count": null,
   "id": "6834d7b8",
   "metadata": {},
   "outputs": [],
   "source": [
    "df['Line'] = bet_info[7]\n",
    "df['Projection'] = bet_info[15]\n",
    "df['Diff'] = bet_info[9]\n",
    "df['Moneyline'] = bet_info[13]\n",
    "df"
   ]
  },
  {
   "cell_type": "code",
   "execution_count": null,
   "id": "12457e45",
   "metadata": {},
   "outputs": [],
   "source": [
    "df['Pick'] = bet_info[29]\n",
    "df"
   ]
  },
  {
   "cell_type": "code",
   "execution_count": null,
   "id": "bd585653",
   "metadata": {
    "scrolled": true
   },
   "outputs": [],
   "source": [
    "df = df[['Date', 'Name', 'Team', 'Position', 'Opp','Home/Away', 'Line', 'Moneyline', 'Projection', 'Diff', 'Pick', 'Result', 'Accuracy']]\n",
    "df"
   ]
  },
  {
   "cell_type": "code",
   "execution_count": null,
   "id": "1286857d",
   "metadata": {},
   "outputs": [],
   "source": [
    "picks = df.Pick\n",
    "picks\n",
    "picks = [list(i) for i in picks]"
   ]
  },
  {
   "cell_type": "code",
   "execution_count": null,
   "id": "f1707b58",
   "metadata": {},
   "outputs": [],
   "source": [
    "over_under = [i[0] for i in picks]\n",
    "over_under"
   ]
  },
  {
   "cell_type": "code",
   "execution_count": null,
   "id": "25c51da4",
   "metadata": {},
   "outputs": [],
   "source": [
    "df['pick_over_under'] = over_under\n",
    "df"
   ]
  },
  {
   "cell_type": "code",
   "execution_count": null,
   "id": "65d9900b",
   "metadata": {},
   "outputs": [],
   "source": [
    "df['Pick'] = df['Pick'].map(lambda x: x.lstrip('ou'))\n",
    "df"
   ]
  },
  {
   "cell_type": "code",
   "execution_count": null,
   "id": "f8e20d1c",
   "metadata": {
    "scrolled": false
   },
   "outputs": [],
   "source": [
    "accuracies = df.Accuracy.str.split(\" \", expand = True)\n",
    "accuracies"
   ]
  },
  {
   "cell_type": "code",
   "execution_count": null,
   "id": "b0672ae5",
   "metadata": {
    "scrolled": true
   },
   "outputs": [],
   "source": [
    "df['seven_day_accuracy'] = accuracies[8]"
   ]
  },
  {
   "cell_type": "code",
   "execution_count": null,
   "id": "f7663f98",
   "metadata": {},
   "outputs": [],
   "source": [
    "df.seven_day_accuracy"
   ]
  },
  {
   "cell_type": "code",
   "execution_count": null,
   "id": "b52f90bd",
   "metadata": {},
   "outputs": [],
   "source": [
    "df.seven_day_accuracy.value_counts()"
   ]
  },
  {
   "cell_type": "code",
   "execution_count": null,
   "id": "14816398",
   "metadata": {
    "scrolled": true
   },
   "outputs": [],
   "source": [
    "df['seven_day_accuracy'] = df['seven_day_accuracy'].map(lambda x: x.lstrip('(').rstrip('%)'))"
   ]
  },
  {
   "cell_type": "code",
   "execution_count": null,
   "id": "f4e1a8e9",
   "metadata": {},
   "outputs": [],
   "source": [
    "df.seven_day_accuracy = df.seven_day_accuracy.replace('', 50, regex=True)"
   ]
  },
  {
   "cell_type": "code",
   "execution_count": null,
   "id": "e610cba1",
   "metadata": {},
   "outputs": [],
   "source": [
    "df['seven_day_accuracy'] = pd.to_numeric(df['seven_day_accuracy'])"
   ]
  },
  {
   "cell_type": "code",
   "execution_count": null,
   "id": "e66dd98e",
   "metadata": {},
   "outputs": [],
   "source": [
    "df.dtypes"
   ]
  },
  {
   "cell_type": "code",
   "execution_count": null,
   "id": "31b410a9",
   "metadata": {
    "scrolled": true
   },
   "outputs": [],
   "source": [
    "df['seven_day_accuracy'] = df['seven_day_accuracy'].map(lambda x: x/100)"
   ]
  },
  {
   "cell_type": "code",
   "execution_count": null,
   "id": "c0d6ca16",
   "metadata": {},
   "outputs": [],
   "source": [
    "df.seven_day_accuracy.value_counts()"
   ]
  },
  {
   "cell_type": "code",
   "execution_count": null,
   "id": "ab5074ca",
   "metadata": {},
   "outputs": [],
   "source": [
    "df.drop(columns=['Accuracy'], inplace=True)\n",
    "df"
   ]
  },
  {
   "cell_type": "code",
   "execution_count": null,
   "id": "455441a4",
   "metadata": {},
   "outputs": [],
   "source": [
    "# Final form betting df, additional cleaning and saving to csv below\n",
    "sorted_df = df.sort_values(by=['Name', 'Date'])\n",
    "sorted_df.reset_index(inplace=True, drop=True)\n",
    "sorted_df"
   ]
  },
  {
   "cell_type": "code",
   "execution_count": null,
   "id": "e42b4a0c",
   "metadata": {},
   "outputs": [],
   "source": [
    "sorted_df['Line'] = pd.to_numeric(sorted_df.Line)"
   ]
  },
  {
   "cell_type": "code",
   "execution_count": null,
   "id": "f25158a9",
   "metadata": {},
   "outputs": [],
   "source": [
    "sorted_df = sorted_df.replace('EVEN', '+100')"
   ]
  },
  {
   "cell_type": "code",
   "execution_count": null,
   "id": "1fb9ac8f",
   "metadata": {
    "scrolled": true
   },
   "outputs": [],
   "source": [
    "sorted_df = sorted_df.replace('TBD', np.nan)"
   ]
  },
  {
   "cell_type": "code",
   "execution_count": null,
   "id": "da39c6be",
   "metadata": {},
   "outputs": [],
   "source": [
    "sorted_df['Moneyline'] = pd.to_numeric(sorted_df.Moneyline)"
   ]
  },
  {
   "cell_type": "code",
   "execution_count": null,
   "id": "bd77c572",
   "metadata": {},
   "outputs": [],
   "source": [
    "sorted_df['Projection'] = pd.to_numeric(sorted_df.Projection)\n",
    "sorted_df['Diff'] = pd.to_numeric(sorted_df.Diff)\n",
    "sorted_df['Result'] = pd.to_numeric(sorted_df.Result)\n",
    "sorted_df['Pick'] = pd.to_numeric(sorted_df.Pick)"
   ]
  },
  {
   "cell_type": "code",
   "execution_count": null,
   "id": "ef5d46ef",
   "metadata": {},
   "outputs": [],
   "source": [
    "sorted_df"
   ]
  },
  {
   "cell_type": "code",
   "execution_count": null,
   "id": "c58b0f63",
   "metadata": {
    "scrolled": true
   },
   "outputs": [],
   "source": [
    "sorted_df.dtypes"
   ]
  },
  {
   "cell_type": "code",
   "execution_count": null,
   "id": "8d9abb2e",
   "metadata": {},
   "outputs": [],
   "source": [
    "# Determine if website pick was a win or loss (for fun, potential spinoff angle).\n",
    "conditions = [\n",
    "    ((sorted_df['Result'] < sorted_df['Pick']) & (sorted_df['pick_over_under'] == 'u')),\n",
    "    ((sorted_df['Result'] < sorted_df['Pick']) & (sorted_df['pick_over_under'] == 'o')),\n",
    "    ((sorted_df['Result'] > sorted_df['Pick']) & (sorted_df['pick_over_under'] =='o')),\n",
    "    ((sorted_df['Result'] > sorted_df['Pick']) & (sorted_df['pick_over_under'] == 'u'))\n",
    "    ]\n",
    "\n",
    "# create a list of the values we want to assign for each condition\n",
    "values = ['1', '0', '1', '0']\n",
    "\n",
    "# create a new column and use np.select to assign values to it using our lists as arguments\n",
    "sorted_df['successful_pick'] = np.select(conditions, values)"
   ]
  },
  {
   "cell_type": "code",
   "execution_count": null,
   "id": "6bafdcc9",
   "metadata": {},
   "outputs": [],
   "source": [
    "sorted_df"
   ]
  },
  {
   "cell_type": "code",
   "execution_count": null,
   "id": "54f51cf8",
   "metadata": {},
   "outputs": [],
   "source": [
    "sorted_df.to_csv('betting_data.csv')"
   ]
  }
 ],
 "metadata": {
  "kernelspec": {
   "display_name": "Python [conda env:metis] *",
   "language": "python",
   "name": "conda-env-metis-py"
  },
  "language_info": {
   "codemirror_mode": {
    "name": "ipython",
    "version": 3
   },
   "file_extension": ".py",
   "mimetype": "text/x-python",
   "name": "python",
   "nbconvert_exporter": "python",
   "pygments_lexer": "ipython3",
   "version": "3.9.7"
  }
 },
 "nbformat": 4,
 "nbformat_minor": 5
}
