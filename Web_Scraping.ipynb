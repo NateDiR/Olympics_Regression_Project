{
 "cells": [
  {
   "cell_type": "code",
   "execution_count": 1,
   "id": "5ca0e9ca",
   "metadata": {},
   "outputs": [],
   "source": [
    "%reset -fs\n",
    "import pandas as pd\n",
    "import seaborn as sns\n",
    "import numpy as np\n",
    "import requests\n",
    "import time, os\n",
    "from bs4 import BeautifulSoup\n",
    "import datetime\n",
    "import re\n",
    "from datetime import date\n",
    "from selenium import webdriver\n",
    "from selenium.webdriver.common.keys import Keys\n",
    "pd.set_option('display.width', 1000)\n",
    "pd.set_option('display.max_columns', 500)"
   ]
  },
  {
   "cell_type": "code",
   "execution_count": 2,
   "id": "797dab86",
   "metadata": {},
   "outputs": [],
   "source": [
    "chromedriver = \"/Applications/chromedriver\"\n",
    "os.environ['webdriver.chrome.driver'] = chromedriver"
   ]
  },
  {
   "cell_type": "code",
   "execution_count": 3,
   "id": "ed48f320",
   "metadata": {},
   "outputs": [],
   "source": [
    "driver = webdriver.Chrome(chromedriver)"
   ]
  },
  {
   "cell_type": "code",
   "execution_count": 4,
   "id": "c7413d61",
   "metadata": {},
   "outputs": [],
   "source": [
    "bet_search =  'https://www.bettingpros.com/nba/picks/prop-bets/bet/points/'\n",
    "query = '?date=' + datetime.date(2021, 10, 19).strftime('%Y-%m-%d')\n",
    "bet_query = bet_search + query"
   ]
  },
  {
   "cell_type": "code",
   "execution_count": 5,
   "id": "244fbf6c",
   "metadata": {},
   "outputs": [],
   "source": [
    "base = datetime.datetime.today()\n",
    "delta = base - datetime.datetime(2021, 10, 19)\n",
    "date_list = [base - datetime.timedelta(days=x) for x in range(delta.days+1)]\n",
    "date_list = [d.strftime('%Y-%m-%d') for d in date_list]"
   ]
  },
  {
   "cell_type": "code",
   "execution_count": 6,
   "id": "193e8feb",
   "metadata": {},
   "outputs": [],
   "source": [
    "bet_query = bet_search + '?date=' + '2021-12-20'\n",
    "driver.get(bet_query)\n",
    "soup = BeautifulSoup(driver.page_source, 'html.parser')"
   ]
  },
  {
   "cell_type": "code",
   "execution_count": 7,
   "id": "f6438616",
   "metadata": {},
   "outputs": [],
   "source": [
    "def get_data(date):\n",
    "    data_str = []\n",
    "    data = []\n",
    "    li = []\n",
    "    final_df = pd.DataFrame()\n",
    "    bet_query = bet_search + '?date=' + date\n",
    "    driver.get(bet_query)\n",
    "    time.sleep(5)\n",
    "    soup = BeautifulSoup(driver.page_source, 'html.parser')\n",
    "    #if driver.findElements('table').size() > 0\n",
    "    table = soup.find('table')\n",
    "    date = soup.find('h1').text\n",
    "    date = date.split(\" \")[5]\n",
    "    date.strip(')')\n",
    "    date = date.replace('(',\"\").replace(')',\"\")\n",
    "    house_accuracy = soup.find('div', class_='best-props__accuracy').text\n",
    "    season_to_date_accuracy = house_accuracy.split(' ')[16]\n",
    "    season_to_date_accuracy = season_to_date_accuracy.replace('(', '').replace(')', '')\n",
    "    season_to_date_accuracy = float(season_to_date_accuracy.strip('%'))/100\n",
    "    seven_day_accuracy = house_accuracy.split(' ')[8]\n",
    "    seven_day_accuracy = seven_day_accuracy.replace('(', '').replace(')', '')\n",
    "    seven_day_accuracy = float(seven_day_accuracy.strip('%'))/100\n",
    "    table_data = table.tbody.find_all('tr')\n",
    "    for tr in table_data:\n",
    "        data_str.append(tr.text.replace('\\n', ' ').strip())\n",
    "    #for i in data_str:\n",
    "        #li = list(i.split('            '))\n",
    "        #data.append(li)\n",
    "    if driver.find_element_by_xpath('//*[@id=\"props-app\"]/div/div/div[4]/div/div/a[2]').size() > 0 == True:\n",
    "        driver.execute_script(\"window.scrollTo(0, window.scrollY + window.innerHeight);\")\n",
    "        time.sleep(3)\n",
    "        driver.execute_script(\"window.scrollTo(0, window.scrollY + 550);\")\n",
    "        next_page = driver.find_element_by_xpath('//*[@id=\"props-app\"]/div/div/div[4]/div/div/a[2]')\n",
    "        next_page.click()\n",
    "        table_2 = soup.find('table')\n",
    "        table_2_data = table_2.tbody.find_all('tr')\n",
    "        for tr in table_2_data:\n",
    "            data_str.append(tr.text.replace('\\n', ' ').strip())\n",
    "    if driver.find_element_by_xpath('//*[@id=\"props-app\"]/div/div/div[4]/div/div/a[2]').size() > 0 == True:\n",
    "        driver.execute_script(\"window.scrollTo(0, window.scrollY + window.innerHeight);\")\n",
    "        time.sleep(3)\n",
    "        driver.execute_script(\"window.scrollTo(0, window.scrollY + 550);\")\n",
    "        next_page = driver.find_element_by_xpath('//*[@id=\"props-app\"]/div/div/div[4]/div/div/a[2]')\n",
    "        next_page.click()\n",
    "        table_3 = soup.find('table')\n",
    "        table_3_data = table_3.tbody.find_all('tr')\n",
    "        for tr in table_3_data:\n",
    "            data_str.append(tr.text.replace('\\n', ' ').strip())\n",
    "    if driver.find_element_by_xpath('//*[@id=\"props-app\"]/div/div/div[4]/div/div/a[2]').size() > 0 == True:\n",
    "        driver.execute_script(\"window.scrollTo(0, window.scrollY + window.innerHeight);\")\n",
    "        time.sleep(3)\n",
    "        driver.execute_script(\"window.scrollTo(0, window.scrollY + 550);\")\n",
    "        next_page = driver.find_element_by_xpath('//*[@id=\"props-app\"]/div/div/div[4]/div/div/a[2]')\n",
    "        next_page.click()\n",
    "        table_4 = soup.find('table')\n",
    "        table_4_data = table_4.tbody.find_all('tr')\n",
    "        for tr in table_4_data:\n",
    "            data_str.append(tr.text.replace('\\n', ' ').strip())\n",
    "    for i in data_str:\n",
    "        li = list(i.split('            '))\n",
    "        data.append(li)\n",
    "    for i in data:\n",
    "        if len(i) == 5:\n",
    "            i.append('TBD')\n",
    "            i.append(date)\n",
    "            i.append(season_to_date_accuracy)\n",
    "            i.append(seven_day_accuracy)\n",
    "        else:\n",
    "            i.append(date)\n",
    "            i.append(season_to_date_accuracy)\n",
    "            i.append(seven_day_accuracy)\n",
    "    final_df = final_df.append(pd.DataFrame(data))\n",
    "    return final_df"
   ]
  },
  {
   "cell_type": "code",
   "execution_count": 8,
   "id": "07f3bc88",
   "metadata": {},
   "outputs": [
    {
     "ename": "TypeError",
     "evalue": "'dict' object is not callable",
     "output_type": "error",
     "traceback": [
      "\u001b[0;31m---------------------------------------------------------------------------\u001b[0m",
      "\u001b[0;31mTypeError\u001b[0m                                 Traceback (most recent call last)",
      "\u001b[0;32m/var/folders/36/w8jclnw52p3d1qr2544j3lth0000gn/T/ipykernel_48172/3645278238.py\u001b[0m in \u001b[0;36m<module>\u001b[0;34m\u001b[0m\n\u001b[0;32m----> 1\u001b[0;31m \u001b[0mget_data\u001b[0m\u001b[0;34m(\u001b[0m\u001b[0;34m'2021-12-20'\u001b[0m\u001b[0;34m)\u001b[0m\u001b[0;34m\u001b[0m\u001b[0;34m\u001b[0m\u001b[0m\n\u001b[0m",
      "\u001b[0;32m/var/folders/36/w8jclnw52p3d1qr2544j3lth0000gn/T/ipykernel_48172/1368475871.py\u001b[0m in \u001b[0;36mget_data\u001b[0;34m(date)\u001b[0m\n\u001b[1;32m     27\u001b[0m         \u001b[0;31m#li = list(i.split('            '))\u001b[0m\u001b[0;34m\u001b[0m\u001b[0;34m\u001b[0m\u001b[0m\n\u001b[1;32m     28\u001b[0m         \u001b[0;31m#data.append(li)\u001b[0m\u001b[0;34m\u001b[0m\u001b[0;34m\u001b[0m\u001b[0m\n\u001b[0;32m---> 29\u001b[0;31m     \u001b[0;32mif\u001b[0m \u001b[0mdriver\u001b[0m\u001b[0;34m.\u001b[0m\u001b[0mfind_element_by_xpath\u001b[0m\u001b[0;34m(\u001b[0m\u001b[0;34m'//*[@id=\"props-app\"]/div/div/div[4]/div/div/a[2]'\u001b[0m\u001b[0;34m)\u001b[0m\u001b[0;34m.\u001b[0m\u001b[0msize\u001b[0m\u001b[0;34m(\u001b[0m\u001b[0;34m)\u001b[0m \u001b[0;34m>\u001b[0m \u001b[0;36m0\u001b[0m \u001b[0;34m==\u001b[0m \u001b[0;32mTrue\u001b[0m\u001b[0;34m:\u001b[0m\u001b[0;34m\u001b[0m\u001b[0;34m\u001b[0m\u001b[0m\n\u001b[0m\u001b[1;32m     30\u001b[0m         \u001b[0mdriver\u001b[0m\u001b[0;34m.\u001b[0m\u001b[0mexecute_script\u001b[0m\u001b[0;34m(\u001b[0m\u001b[0;34m\"window.scrollTo(0, window.scrollY + window.innerHeight);\"\u001b[0m\u001b[0;34m)\u001b[0m\u001b[0;34m\u001b[0m\u001b[0;34m\u001b[0m\u001b[0m\n\u001b[1;32m     31\u001b[0m         \u001b[0mtime\u001b[0m\u001b[0;34m.\u001b[0m\u001b[0msleep\u001b[0m\u001b[0;34m(\u001b[0m\u001b[0;36m3\u001b[0m\u001b[0;34m)\u001b[0m\u001b[0;34m\u001b[0m\u001b[0;34m\u001b[0m\u001b[0m\n",
      "\u001b[0;31mTypeError\u001b[0m: 'dict' object is not callable"
     ]
    }
   ],
   "source": [
    "get_data('2021-12-20')"
   ]
  },
  {
   "cell_type": "code",
   "execution_count": null,
   "id": "a55fea64",
   "metadata": {},
   "outputs": [],
   "source": [
    "final_df = pd.DataFrame()\n",
    "for i in date_list:\n",
    "    if i == '2021-12-24':\n",
    "        continue\n",
    "    if i == '2021-11-25':\n",
    "        continue\n",
    "    \n",
    "    final_df = final_df.append(get_data(i))"
   ]
  },
  {
   "cell_type": "code",
   "execution_count": null,
   "id": "1a39d86d",
   "metadata": {},
   "outputs": [],
   "source": [
    "final_df"
   ]
  },
  {
   "cell_type": "code",
   "execution_count": null,
   "id": "ebdc05f8",
   "metadata": {
    "scrolled": true
   },
   "outputs": [],
   "source": [
    "table_data = table.tbody.find_all('tr')\n",
    "data_str = []\n",
    "data = []\n",
    "for tr in table_data:\n",
    "    data_str.append(tr.text.replace('\\n', ' ').strip())\n",
    "for i in data_str:\n",
    "    li = list(i.split('            '))\n",
    "    data.append(li)\n",
    "data\n",
    "df = pd.DataFrame(data)\n",
    "df.columns = ['Name', 'Team', 'Opp', 'Type', 'Line', 'Result']\n",
    "df"
   ]
  },
  {
   "cell_type": "code",
   "execution_count": null,
   "id": "73d1cf4b",
   "metadata": {},
   "outputs": [],
   "source": [
    "player_name = df.Name.str.split(\" \", expand = True)\n",
    "player_name\n",
    "df['Name'] = player_name[2] + ' ' + player_name[4]"
   ]
  },
  {
   "cell_type": "code",
   "execution_count": null,
   "id": "7908d387",
   "metadata": {},
   "outputs": [],
   "source": [
    "df"
   ]
  },
  {
   "cell_type": "code",
   "execution_count": null,
   "id": "38cbb683",
   "metadata": {},
   "outputs": [],
   "source": [
    "team = df.Team.str.split(\" \", expand = True)\n",
    "team"
   ]
  },
  {
   "cell_type": "code",
   "execution_count": null,
   "id": "7f280afa",
   "metadata": {},
   "outputs": [],
   "source": [
    "df['Team'] = team[0]\n",
    "df['Position'] = team[2]\n",
    "df"
   ]
  },
  {
   "cell_type": "code",
   "execution_count": null,
   "id": "d694206e",
   "metadata": {},
   "outputs": [],
   "source": [
    "opp = df.Opp.str.split(\" \", expand = True)\n",
    "opp"
   ]
  },
  {
   "cell_type": "code",
   "execution_count": null,
   "id": "ee3df8f4",
   "metadata": {},
   "outputs": [],
   "source": [
    "df.Opp = opp[1]\n",
    "df['Home/Away'] = opp[0]\n",
    "df"
   ]
  },
  {
   "cell_type": "code",
   "execution_count": null,
   "id": "9a357447",
   "metadata": {},
   "outputs": [],
   "source": [
    "bet_info = df.Line.str.split(\" \", expand = True)\n",
    "bet_info"
   ]
  },
  {
   "cell_type": "code",
   "execution_count": null,
   "id": "6834d7b8",
   "metadata": {},
   "outputs": [],
   "source": [
    "df['Line'] = bet_info[7]\n",
    "df['Projection'] = bet_info[15]\n",
    "df['Diff'] = bet_info[9]\n",
    "df['Moneyline'] = bet_info[13]\n",
    "df"
   ]
  },
  {
   "cell_type": "code",
   "execution_count": null,
   "id": "12457e45",
   "metadata": {},
   "outputs": [],
   "source": [
    "df['Pick'] = bet_info[29]\n",
    "df"
   ]
  },
  {
   "cell_type": "code",
   "execution_count": null,
   "id": "b928b877",
   "metadata": {},
   "outputs": [],
   "source": [
    "date = soup.find('h1').text\n",
    "date = date.split(\" \")[5]\n",
    "date.strip(')')\n",
    "date = date.replace('(',\"\").replace(')',\"\")\n",
    "date"
   ]
  },
  {
   "cell_type": "code",
   "execution_count": null,
   "id": "e2f3525a",
   "metadata": {},
   "outputs": [],
   "source": [
    "df['Date'] = date\n",
    "df"
   ]
  },
  {
   "cell_type": "code",
   "execution_count": null,
   "id": "bd585653",
   "metadata": {
    "scrolled": true
   },
   "outputs": [],
   "source": [
    "df = df[['Date', 'Name', 'Team', 'Position', 'Opp','Type', 'Line', 'Moneyline', 'Projection', 'Diff', 'Pick', 'Result']]\n",
    "df"
   ]
  },
  {
   "cell_type": "code",
   "execution_count": null,
   "id": "1286857d",
   "metadata": {},
   "outputs": [],
   "source": [
    "picks = df.Pick\n",
    "picks\n",
    "picks = [list(i) for i in picks]"
   ]
  },
  {
   "cell_type": "code",
   "execution_count": null,
   "id": "f1707b58",
   "metadata": {},
   "outputs": [],
   "source": [
    "over_under = [i[0] for i in picks]\n",
    "over_under"
   ]
  },
  {
   "cell_type": "code",
   "execution_count": null,
   "id": "25c51da4",
   "metadata": {},
   "outputs": [],
   "source": [
    "df['pick_over_under'] = over_under\n",
    "df"
   ]
  },
  {
   "cell_type": "code",
   "execution_count": null,
   "id": "65d9900b",
   "metadata": {},
   "outputs": [],
   "source": [
    "df['Pick'] = df['Pick'].map(lambda x: x.lstrip('ou'))\n",
    "df"
   ]
  },
  {
   "cell_type": "code",
   "execution_count": null,
   "id": "e42b4a0c",
   "metadata": {},
   "outputs": [],
   "source": [
    "df['Line'] = pd.to_numeric(df.Line)"
   ]
  },
  {
   "cell_type": "code",
   "execution_count": null,
   "id": "da39c6be",
   "metadata": {},
   "outputs": [],
   "source": [
    "df['Moneyline'] = pd.to_numeric(df.Moneyline)"
   ]
  },
  {
   "cell_type": "code",
   "execution_count": null,
   "id": "bd77c572",
   "metadata": {},
   "outputs": [],
   "source": [
    "df['Projection'] = pd.to_numeric(df.Projection)\n",
    "df['Diff'] = pd.to_numeric(df.Diff)\n",
    "df['Result'] = pd.to_numeric(df.Result)\n",
    "df['Pick'] = pd.to_numeric(df.Pick)"
   ]
  },
  {
   "cell_type": "code",
   "execution_count": null,
   "id": "1a9aae41",
   "metadata": {},
   "outputs": [],
   "source": [
    "df.Name = df.Name.astype('str')\n",
    "df.Team = df.Team.astype('str')\n",
    "df.Position = df.Position.astype('str')\n",
    "df.Opp = df.Opp.astype('str')\n",
    "df.pick_over_under = df.pick_over_under.astype('str')"
   ]
  },
  {
   "cell_type": "code",
   "execution_count": null,
   "id": "c58b0f63",
   "metadata": {
    "scrolled": true
   },
   "outputs": [],
   "source": [
    "df.dtypes"
   ]
  },
  {
   "cell_type": "code",
   "execution_count": null,
   "id": "7e966ed0",
   "metadata": {},
   "outputs": [],
   "source": [
    "df.Date = pd.to_datetime(df.Date)"
   ]
  },
  {
   "cell_type": "code",
   "execution_count": null,
   "id": "c5f6c2b4",
   "metadata": {},
   "outputs": [],
   "source": [
    "df"
   ]
  },
  {
   "cell_type": "code",
   "execution_count": null,
   "id": "8d9abb2e",
   "metadata": {},
   "outputs": [],
   "source": [
    "conditions = [\n",
    "    ((df['Result'] < df['Pick']) & (df['pick_over_under'] == 'u')),\n",
    "    ((df['Result'] < df['Pick']) & (df['pick_over_under'] == 'o')),\n",
    "    ((df['Result'] > df['Pick']) & (df['pick_over_under'] =='o')),\n",
    "    ((df['Result'] > df['Pick']) & (df['pick_over_under'] == 'u'))\n",
    "    ]\n",
    "\n",
    "# create a list of the values we want to assign for each condition\n",
    "values = ['1', '0', '1', '0']\n",
    "\n",
    "# create a new column and use np.select to assign values to it using our lists as arguments\n",
    "df['successful_pick'] = np.select(conditions, values)"
   ]
  },
  {
   "cell_type": "code",
   "execution_count": null,
   "id": "6bafdcc9",
   "metadata": {},
   "outputs": [],
   "source": [
    "df"
   ]
  },
  {
   "cell_type": "code",
   "execution_count": null,
   "id": "182f9980",
   "metadata": {},
   "outputs": [],
   "source": [
    "base = datetime.datetime.today()\n",
    "delta = base - datetime.datetime(2021, 10, 19)\n",
    "date_list = [base - datetime.timedelta(days=x) for x in range(delta.days+1)]\n",
    "date_list = [d.strftime('%Y-%m-%d') for d in date_list]\n",
    "len(date_list)"
   ]
  },
  {
   "cell_type": "code",
   "execution_count": null,
   "id": "de23d1d9",
   "metadata": {},
   "outputs": [],
   "source": [
    "for i in date_list:\n",
    "    url = bet_search + '?date=' + i\n",
    "    response = requests.get(url)\n",
    "    page = response.text\n",
    "    "
   ]
  },
  {
   "cell_type": "code",
   "execution_count": null,
   "id": "eed882b2",
   "metadata": {},
   "outputs": [],
   "source": [
    "def get_betting_table(date):\n",
    "    bet_url =  'https://www.bettingpros.com/nba/picks/prop-bets/bet/points/'\n",
    "    query_string = '?date=' + datetime.date.today().strftime('%Y-%m-%d')\n",
    "    url = bet_search + query\n",
    "    response = requests.get(url)\n",
    "    page = response.text\n",
    "    soup = BeautifulSoup(page, 'lxml')\n",
    "    table = soup.find('table')\n",
    "    "
   ]
  },
  {
   "cell_type": "code",
   "execution_count": null,
   "id": "cc866791",
   "metadata": {},
   "outputs": [],
   "source": [
    "driver.page_source[:1000]"
   ]
  },
  {
   "cell_type": "code",
   "execution_count": null,
   "id": "1fe41b26",
   "metadata": {},
   "outputs": [],
   "source": [
    "soup = BeautifulSoup(driver.page_source, 'html.parser')"
   ]
  },
  {
   "cell_type": "code",
   "execution_count": null,
   "id": "54f51cf8",
   "metadata": {},
   "outputs": [],
   "source": []
  }
 ],
 "metadata": {
  "kernelspec": {
   "display_name": "Python [conda env:metis] *",
   "language": "python",
   "name": "conda-env-metis-py"
  },
  "language_info": {
   "codemirror_mode": {
    "name": "ipython",
    "version": 3
   },
   "file_extension": ".py",
   "mimetype": "text/x-python",
   "name": "python",
   "nbconvert_exporter": "python",
   "pygments_lexer": "ipython3",
   "version": "3.9.7"
  }
 },
 "nbformat": 4,
 "nbformat_minor": 5
}
