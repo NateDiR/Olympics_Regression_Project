{
 "cells": [
  {
   "cell_type": "code",
   "execution_count": null,
   "id": "d04a20f9",
   "metadata": {},
   "outputs": [],
   "source": [
    "%reset -fs"
   ]
  },
  {
   "cell_type": "code",
   "execution_count": null,
   "id": "5ca0e9ca",
   "metadata": {
    "scrolled": true
   },
   "outputs": [],
   "source": [
    "import pandas as pd\n",
    "import numpy as np\n",
    "import time, os\n",
    "from bs4 import BeautifulSoup\n",
    "import datetime\n",
    "from selenium import webdriver\n",
    "from selenium.webdriver.common.action_chains import ActionChains\n",
    "from pymongo import MongoClient\n",
    "from dotenv import load_dotenv\n",
    "pd.set_option('display.width', 1000)\n",
    "pd.set_option('display.max_columns', None)"
   ]
  },
  {
   "cell_type": "code",
   "execution_count": null,
   "id": "8898c4c7",
   "metadata": {},
   "outputs": [],
   "source": [
    "load_dotenv()"
   ]
  },
  {
   "cell_type": "code",
   "execution_count": null,
   "id": "b0ea019e",
   "metadata": {},
   "outputs": [],
   "source": [
    "mongo_pw = os.environ.get(\"MONGO_PW\")"
   ]
  },
  {
   "cell_type": "code",
   "execution_count": null,
   "id": "d6558fd8",
   "metadata": {},
   "outputs": [],
   "source": [
    "client = MongoClient('mongodb+srv://natedirenzo:' + mongo_pw + '@nba-db.grcwg.mongodb.net/myFirstDatabase?retryWrites=true&w=majority')\n"
   ]
  },
  {
   "cell_type": "code",
   "execution_count": null,
   "id": "244fbf6c",
   "metadata": {
    "scrolled": true
   },
   "outputs": [],
   "source": [
    "base = datetime.datetime.today()\n",
    "delta = base - datetime.datetime(2021, 10, 19)\n",
    "date_list = [base - datetime.timedelta(days=x) for x in range(delta.days+1)]\n",
    "date_list = [d.strftime('%Y-%m-%d') for d in date_list]"
   ]
  },
  {
   "cell_type": "code",
   "execution_count": null,
   "id": "3125f00c",
   "metadata": {
    "scrolled": true
   },
   "outputs": [],
   "source": [
    "#run this initially; then don't run again if you just want to keep adding to it\n",
    "final_df = pd.DataFrame()"
   ]
  },
  {
   "cell_type": "code",
   "execution_count": null,
   "id": "acab9123",
   "metadata": {},
   "outputs": [],
   "source": [
    "bet_search =  'https://www.bettingpros.com/nba/picks/prop-bets/bet/points/?date='"
   ]
  },
  {
   "cell_type": "code",
   "execution_count": null,
   "id": "797dab86",
   "metadata": {
    "scrolled": true
   },
   "outputs": [],
   "source": [
    "chromedriver = \"/Applications/chromedriver\"\n",
    "os.environ['webdriver.chrome.driver'] = chromedriver"
   ]
  },
  {
   "cell_type": "code",
   "execution_count": null,
   "id": "3621f5c9",
   "metadata": {
    "scrolled": true
   },
   "outputs": [],
   "source": [
    "driver = webdriver.Chrome(chromedriver)"
   ]
  },
  {
   "cell_type": "code",
   "execution_count": null,
   "id": "f6a274f0",
   "metadata": {
    "scrolled": true
   },
   "outputs": [],
   "source": [
    "# Tip of the hat to Rita for helping with these two functions !\n",
    "def get_site_rb(date):\n",
    "    bet_query = bet_search + date\n",
    "    driver.get(bet_query)\n",
    "    time.sleep(5)\n",
    "    try:\n",
    "        element = driver.find_element_by_xpath('//*[@id=\"onetrust-accept-btn-handler\"]')\n",
    "        action = ActionChains(driver)\n",
    "        action.move_to_element(element).click().perform()\n",
    "    except:\n",
    "        pass\n",
    "    get_data_rb()\n"
   ]
  },
  {
   "cell_type": "code",
   "execution_count": null,
   "id": "00fe54d2",
   "metadata": {
    "scrolled": true
   },
   "outputs": [],
   "source": [
    "def get_data_rb():\n",
    "    data_str = []\n",
    "    data = []\n",
    "    li = []\n",
    "    soup = BeautifulSoup(driver.page_source, 'html.parser')\n",
    "    table = soup.find('table')\n",
    "    date = soup.find('h1').text\n",
    "    date = date.split(\" \")[5]\n",
    "    date.strip(')')\n",
    "    date = date.replace('(',\"\").replace(')',\"\")\n",
    "    house_accuracy = soup.find('div', class_='best-props__accuracy').text\n",
    "    table_data = table.tbody.find_all('tr')\n",
    "    for tr in table_data:\n",
    "        data_str.append(tr.text.replace('\\n', ' ').strip())\n",
    "    for i in data_str:\n",
    "        li = list(i.split('            '))\n",
    "        data.append(li)\n",
    "    for i in data:\n",
    "        if len(i) == 7:\n",
    "            i.append('TBD')\n",
    "            i.append(date)\n",
    "            i.append(house_accuracy)\n",
    "        else:\n",
    "            i.append(date)\n",
    "            i.append(house_accuracy)\n",
    "    global final_df\n",
    "    final_df = pd.concat([final_df, pd.DataFrame(data)])\n",
    "    time.sleep(1)\n",
    "\n",
    "    try:\n",
    "        page_progress = driver.find_element_by_xpath('//div[contains(@class, \"table__pagination\")]').text.strip(\"«\").strip(\"»\").strip()\n",
    "        if int(page_progress[5]) == int(page_progress[10]):\n",
    "            return final_df\n",
    "        else:\n",
    "            element = driver.find_element_by_xpath('/html/body/div[2]/main/div/div/div/div[4]/div/div/a[2]')\n",
    "            action = ActionChains(driver)\n",
    "            action.move_to_element(element).click().perform()\n",
    "            time.sleep(3)\n",
    "            get_data_rb()\n",
    "    except:\n",
    "        return final_df\n"
   ]
  },
  {
   "cell_type": "code",
   "execution_count": null,
   "id": "235eddb0",
   "metadata": {
    "scrolled": true
   },
   "outputs": [],
   "source": [
    "#run this and then close the cookies pop-up!\n",
    "for i in date_list:\n",
    "    \n",
    "    if i == '2021-12-24':\n",
    "        continue\n",
    "    if i == '2021-11-25':\n",
    "        continue\n",
    "    if i == '2022-02-18':\n",
    "        continue\n",
    "    if i == '2022-02-19':\n",
    "        continue\n",
    "    if i == '2022-02-20':\n",
    "        continue\n",
    "    if i == '2022-02-21':\n",
    "        continue\n",
    "    if i == '2022-02-22':\n",
    "        continue\n",
    "    if i == '2022-02-23':\n",
    "        continue\n",
    "    get_site_rb(i)"
   ]
  },
  {
   "cell_type": "code",
   "execution_count": null,
   "id": "962ae3a2",
   "metadata": {
    "scrolled": true
   },
   "outputs": [],
   "source": [
    "driver.close()"
   ]
  },
  {
   "cell_type": "code",
   "execution_count": null,
   "id": "9068352b",
   "metadata": {
    "scrolled": true
   },
   "outputs": [],
   "source": [
    "#Clean up below\n",
    "final_df.columns=['Name', 'Team', 'Opp', 'Type', 'Line', 'Pick', 'Moneyline', 'Result', 'Date', 'Accuracy']"
   ]
  },
  {
   "cell_type": "code",
   "execution_count": null,
   "id": "620b94d6",
   "metadata": {},
   "outputs": [],
   "source": [
    "final_df.reset_index(drop=True, inplace=True)"
   ]
  },
  {
   "cell_type": "code",
   "execution_count": null,
   "id": "654e3956",
   "metadata": {},
   "outputs": [],
   "source": [
    "final_df"
   ]
  },
  {
   "cell_type": "code",
   "execution_count": null,
   "id": "73d1cf4b",
   "metadata": {
    "scrolled": true
   },
   "outputs": [],
   "source": [
    "player_name = final_df.Name.str.split(\" \", expand = True)\n",
    "final_df['Name'] = player_name[2] + ' ' + player_name[4]"
   ]
  },
  {
   "cell_type": "code",
   "execution_count": null,
   "id": "38cbb683",
   "metadata": {
    "scrolled": true
   },
   "outputs": [],
   "source": [
    "team = final_df.Team.str.split(\" \", expand = True)\n",
    "final_df['Team'] = team[0]\n",
    "final_df['Position'] = team[2]"
   ]
  },
  {
   "cell_type": "code",
   "execution_count": null,
   "id": "d694206e",
   "metadata": {
    "scrolled": true
   },
   "outputs": [],
   "source": [
    "opp = final_df.Opp.str.split(\" \", expand = True)\n",
    "final_df.Opp = opp[1]\n",
    "final_df['Home/Away'] = opp[0]"
   ]
  },
  {
   "cell_type": "code",
   "execution_count": null,
   "id": "9a357447",
   "metadata": {
    "scrolled": true
   },
   "outputs": [],
   "source": [
    "bet_info = final_df.Line.str.split(\" \", expand = True)"
   ]
  },
  {
   "cell_type": "code",
   "execution_count": null,
   "id": "07af1706",
   "metadata": {},
   "outputs": [],
   "source": [
    "money_line = final_df.Moneyline.str.split(\" \", expand = True);money_line"
   ]
  },
  {
   "cell_type": "code",
   "execution_count": null,
   "id": "f0ccd887",
   "metadata": {},
   "outputs": [],
   "source": [
    "money_line[3].value_counts()"
   ]
  },
  {
   "cell_type": "code",
   "execution_count": null,
   "id": "e9c16d30",
   "metadata": {},
   "outputs": [],
   "source": [
    "for i in money_line[3]:\n",
    "    for j in final_df['Result']:\n",
    "        if i == None:\n",
    "            continue\n",
    "        elif i.isdigit() == True and j == 'TBD':\n",
    "            j == i\n",
    "        else:\n",
    "            continue"
   ]
  },
  {
   "cell_type": "code",
   "execution_count": null,
   "id": "6834d7b8",
   "metadata": {
    "scrolled": true
   },
   "outputs": [],
   "source": [
    "final_df['Line'] = bet_info[7]\n",
    "final_df['Projection'] = bet_info[15]\n",
    "final_df['Diff'] = bet_info[9]\n",
    "final_df['Moneyline'] = bet_info[13]\n",
    "if len(bet_info[bet_info[16] == '']) > 0:\n",
    "    final_df['over_under'] = bet_info[19]\n",
    "else:\n",
    "    final_df['over_under'] = bet_info[16]\n",
    "final_df['over_under'] = final_df['over_under'].fillna('o')"
   ]
  },
  {
   "cell_type": "code",
   "execution_count": null,
   "id": "bd585653",
   "metadata": {
    "scrolled": true
   },
   "outputs": [],
   "source": [
    "final_df = final_df[['Date', 'Name', 'Team', 'Position', 'Opp','Home/Away', 'Line', 'Moneyline', 'Projection', 'Diff', 'Pick', 'Result', 'Accuracy', 'over_under']]"
   ]
  },
  {
   "cell_type": "code",
   "execution_count": null,
   "id": "c0807891",
   "metadata": {},
   "outputs": [],
   "source": [
    "final_df"
   ]
  },
  {
   "cell_type": "code",
   "execution_count": null,
   "id": "4c0b6c72",
   "metadata": {},
   "outputs": [],
   "source": [
    "final_df = final_df.copy()"
   ]
  },
  {
   "cell_type": "code",
   "execution_count": null,
   "id": "65d9900b",
   "metadata": {
    "scrolled": true
   },
   "outputs": [],
   "source": [
    "final_df['Projection'] = final_df['Projection'].map(lambda x: x.rstrip('ou'))"
   ]
  },
  {
   "cell_type": "code",
   "execution_count": null,
   "id": "f8e20d1c",
   "metadata": {
    "scrolled": true
   },
   "outputs": [],
   "source": [
    "accuracies = final_df.Accuracy.str.split(\" \", expand = True)"
   ]
  },
  {
   "cell_type": "code",
   "execution_count": null,
   "id": "b0672ae5",
   "metadata": {
    "scrolled": false
   },
   "outputs": [],
   "source": [
    "final_df['seven_day_accuracy'] = accuracies[8]"
   ]
  },
  {
   "cell_type": "code",
   "execution_count": null,
   "id": "14816398",
   "metadata": {
    "scrolled": false
   },
   "outputs": [],
   "source": [
    "final_df['seven_day_accuracy'] = final_df['seven_day_accuracy'].map(lambda x: x.lstrip('(').rstrip('%)'))"
   ]
  },
  {
   "cell_type": "code",
   "execution_count": null,
   "id": "f4e1a8e9",
   "metadata": {
    "scrolled": true
   },
   "outputs": [],
   "source": [
    "final_df.seven_day_accuracy = final_df.seven_day_accuracy.replace('', 50, regex=True)"
   ]
  },
  {
   "cell_type": "code",
   "execution_count": null,
   "id": "e610cba1",
   "metadata": {
    "scrolled": true
   },
   "outputs": [],
   "source": [
    "final_df['seven_day_accuracy'] = pd.to_numeric(final_df['seven_day_accuracy'])"
   ]
  },
  {
   "cell_type": "code",
   "execution_count": null,
   "id": "31b410a9",
   "metadata": {
    "scrolled": false
   },
   "outputs": [],
   "source": [
    "final_df['seven_day_accuracy'] = final_df['seven_day_accuracy'].map(lambda x: x/100)"
   ]
  },
  {
   "cell_type": "code",
   "execution_count": null,
   "id": "ab5074ca",
   "metadata": {
    "scrolled": true
   },
   "outputs": [],
   "source": [
    "final_df.drop(columns=['Accuracy'], inplace=True)"
   ]
  },
  {
   "cell_type": "code",
   "execution_count": null,
   "id": "7ce36d3b",
   "metadata": {},
   "outputs": [],
   "source": [
    "final_df['Date'] = pd.to_datetime(final_df['Date'])"
   ]
  },
  {
   "cell_type": "code",
   "execution_count": null,
   "id": "455441a4",
   "metadata": {
    "scrolled": true
   },
   "outputs": [],
   "source": [
    "# Final form betting df, additional cleaning and saving to csv below\n",
    "sorted_df = final_df.sort_values(by=['Name', 'Date'])\n",
    "sorted_df.reset_index(inplace=True, drop=True)"
   ]
  },
  {
   "cell_type": "code",
   "execution_count": null,
   "id": "e42b4a0c",
   "metadata": {
    "scrolled": true
   },
   "outputs": [],
   "source": [
    "sorted_df['Line'] = pd.to_numeric(sorted_df.Line)"
   ]
  },
  {
   "cell_type": "code",
   "execution_count": null,
   "id": "f25158a9",
   "metadata": {
    "scrolled": true
   },
   "outputs": [],
   "source": [
    "sorted_df = sorted_df.replace('EVEN', '+100')"
   ]
  },
  {
   "cell_type": "code",
   "execution_count": null,
   "id": "1fb9ac8f",
   "metadata": {
    "scrolled": false
   },
   "outputs": [],
   "source": [
    "sorted_df = sorted_df.replace('TBD', None)"
   ]
  },
  {
   "cell_type": "code",
   "execution_count": null,
   "id": "da39c6be",
   "metadata": {
    "scrolled": true
   },
   "outputs": [],
   "source": [
    "sorted_df['Moneyline'] = pd.to_numeric(sorted_df.Moneyline)"
   ]
  },
  {
   "cell_type": "code",
   "execution_count": null,
   "id": "5158b498",
   "metadata": {},
   "outputs": [],
   "source": [
    "sorted_df['Result'] = sorted_df.Result.apply(lambda x: str(x))"
   ]
  },
  {
   "cell_type": "code",
   "execution_count": null,
   "id": "b38c30f5",
   "metadata": {},
   "outputs": [],
   "source": [
    "results = sorted_df.Result.str.split(\" \", expand = True);results"
   ]
  },
  {
   "cell_type": "code",
   "execution_count": null,
   "id": "8668a43b",
   "metadata": {},
   "outputs": [],
   "source": [
    "sorted_df.Result = results[3]"
   ]
  },
  {
   "cell_type": "code",
   "execution_count": null,
   "id": "bd77c572",
   "metadata": {
    "scrolled": true
   },
   "outputs": [],
   "source": [
    "sorted_df['Projection'] = pd.to_numeric(sorted_df.Projection)\n",
    "sorted_df['Diff'] = pd.to_numeric(sorted_df.Diff)\n",
    "sorted_df['Result'] = pd.to_numeric(sorted_df.Result)\n",
    "sorted_df['Pick'] = pd.to_numeric(sorted_df.Pick)\n",
    "sorted_df"
   ]
  },
  {
   "cell_type": "code",
   "execution_count": null,
   "id": "8d9abb2e",
   "metadata": {
    "scrolled": true
   },
   "outputs": [],
   "source": [
    "# Determine if website pick was a win or loss (for fun, potential spinoff angle).\n",
    "conditions = [\n",
    "    ((sorted_df['Result'] < sorted_df['Pick']) & (sorted_df['over_under'] == 'u')),\n",
    "    ((sorted_df['Result'] < sorted_df['Pick']) & (sorted_df['over_under'] == 'o')),\n",
    "    ((sorted_df['Result'] > sorted_df['Pick']) & (sorted_df['over_under'] =='o')),\n",
    "    ((sorted_df['Result'] > sorted_df['Pick']) & (sorted_df['over_under'] == 'u')),\n",
    "    (sorted_df['Result'].isna() == True)\n",
    "    ]\n",
    "\n",
    "# create a list of the values we want to assign for each condition\n",
    "values = ['1', '0', '1', '0', np.nan]\n",
    "\n",
    "# create a new column and use np.select to assign values to it using our lists as arguments\n",
    "sorted_df['successful_pick'] = np.select(conditions, values)"
   ]
  },
  {
   "cell_type": "code",
   "execution_count": null,
   "id": "fe224e2e",
   "metadata": {},
   "outputs": [],
   "source": [
    "db = client['nba-data']"
   ]
  },
  {
   "cell_type": "code",
   "execution_count": null,
   "id": "083580fa",
   "metadata": {},
   "outputs": [],
   "source": [
    "db.drop_collection('betting_data')"
   ]
  },
  {
   "cell_type": "code",
   "execution_count": null,
   "id": "82f7d4fc",
   "metadata": {},
   "outputs": [],
   "source": [
    "client.drop_database('nba-data')"
   ]
  },
  {
   "cell_type": "code",
   "execution_count": null,
   "id": "194a443a",
   "metadata": {},
   "outputs": [],
   "source": [
    "collection = db['betting_data']"
   ]
  },
  {
   "cell_type": "code",
   "execution_count": null,
   "id": "a16c8036",
   "metadata": {},
   "outputs": [],
   "source": [
    "collection.insert_many(sorted_df.to_dict('records'))"
   ]
  },
  {
   "cell_type": "markdown",
   "id": "4fddb588",
   "metadata": {},
   "source": [
    "***"
   ]
  },
  {
   "cell_type": "code",
   "execution_count": null,
   "id": "d04a20f9",
   "metadata": {},
   "outputs": [],
   "source": [
    "%reset -fs"
   ]
  },
  {
   "cell_type": "code",
   "execution_count": null,
   "id": "5ca0e9ca",
   "metadata": {
    "scrolled": true
   },
   "outputs": [],
   "source": [
    "import pandas as pd\n",
    "import numpy as np\n",
    "import time, os\n",
    "from datetime import datetime\n",
    "from pymongo import MongoClient\n",
    "from dotenv import load_dotenv\n",
    "from sportsipy.nba.boxscore import Boxscores\n",
    "from sportsipy.nba.schedule import Boxscore\n",
    "pd.set_option('display.width', 1000)\n",
    "pd.set_option('display.max_columns', None)"
   ]
  },
  {
   "cell_type": "code",
   "execution_count": null,
   "id": "8898c4c7",
   "metadata": {},
   "outputs": [],
   "source": [
    "load_dotenv()"
   ]
  },
  {
   "cell_type": "code",
   "execution_count": null,
   "id": "b0ea019e",
   "metadata": {},
   "outputs": [],
   "source": [
    "mongo_pw = os.environ.get(\"MONGO_PW\")"
   ]
  },
  {
   "cell_type": "code",
   "execution_count": null,
   "id": "d6558fd8",
   "metadata": {},
   "outputs": [],
   "source": [
    "client = MongoClient('mongodb+srv://natedirenzo:' + mongo_pw + '@nba-db.grcwg.mongodb.net/myFirstDatabase?retryWrites=true&w=majority')\n"
   ]
  },
  {
   "cell_type": "code",
   "execution_count": null,
   "id": "fe224e2e",
   "metadata": {},
   "outputs": [],
   "source": [
    "db = client['nba-data']"
   ]
  },
  {
   "cell_type": "code",
   "execution_count": null,
   "id": "194a443a",
   "metadata": {},
   "outputs": [],
   "source": [
    "cursor = db['betting_data'].find()"
   ]
  },
  {
   "cell_type": "code",
   "execution_count": null,
   "id": "1090d248",
   "metadata": {},
   "outputs": [],
   "source": [
    "mongo_df = pd.DataFrame(list(cursor)); mongo_df"
   ]
  },
  {
   "cell_type": "code",
   "execution_count": null,
   "id": "26e5260a",
   "metadata": {},
   "outputs": [],
   "source": [
    "games = Boxscores(datetime(2021, 10, 19), datetime(2022, 4, 2))\n"
   ]
  },
  {
   "cell_type": "code",
   "execution_count": null,
   "id": "fef00aca",
   "metadata": {},
   "outputs": [],
   "source": [
    "games = games.games"
   ]
  },
  {
   "cell_type": "code",
   "execution_count": null,
   "id": "679932ca",
   "metadata": {},
   "outputs": [],
   "source": [
    "uri_list = []\n",
    "for i in games.keys():\n",
    "    for j in games[i]:\n",
    "        uri_list.append(j['boxscore'])"
   ]
  },
  {
   "cell_type": "code",
   "execution_count": null,
   "id": "caa522fd",
   "metadata": {},
   "outputs": [],
   "source": [
    "def get_data(uri):\n",
    "    boxscore = Boxscore(uri)\n",
    "    final_stats_df = pd.DataFrame()\n",
    "    \n",
    "    home_df = boxscore.home_players[0].dataframe\n",
    "    for player in boxscore.home_players[1:]:\n",
    "        home_df = pd.concat([home_df, player.dataframe], axis = 0)\n",
    "    home_df['name'] = [x.name for x in boxscore.home_players]\n",
    "    home_df\n",
    "    \n",
    "    away_df = boxscore.away_players[0].dataframe\n",
    "    for player in boxscore.away_players[1:]:\n",
    "        away_df = pd.concat([away_df, player.dataframe], axis = 0)\n",
    "    away_df['name'] = [x.name for x in boxscore.away_players]\n",
    "    \n",
    "    player_stats = [home_df, away_df]\n",
    "    stats_df = pd.concat(player_stats)\n",
    "    pd.concat([final_stats_df, stats_df])\n",
    "    return final_stats_df\n",
    "\n",
    "    "
   ]
  },
  {
   "cell_type": "code",
   "execution_count": null,
   "id": "c0de392c",
   "metadata": {},
   "outputs": [],
   "source": []
  }
 ],
 "metadata": {
  "interpreter": {
   "hash": "eeda09e8682780dc1dbad7711462886786ede58877e15e2f55a2f4f20b8e3e86"
  },
  "kernelspec": {
   "display_name": "Python [conda env:metis] *",
   "language": "python",
   "name": "python3"
  },
  "language_info": {
   "codemirror_mode": {
    "name": "ipython",
    "version": 3
   },
   "file_extension": ".py",
   "mimetype": "text/x-python",
   "name": "python",
   "nbconvert_exporter": "python",
   "pygments_lexer": "ipython3",
   "version": "3.8.12"
  }
 },
 "nbformat": 4,
 "nbformat_minor": 5
}
