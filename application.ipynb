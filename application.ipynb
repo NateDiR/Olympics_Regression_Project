{
 "cells": [
  {
   "cell_type": "code",
   "execution_count": 1,
   "id": "d04a20f9",
   "metadata": {},
   "outputs": [],
   "source": [
    "%reset -fs"
   ]
  },
  {
   "cell_type": "code",
   "execution_count": 2,
   "id": "5ca0e9ca",
   "metadata": {
    "scrolled": true
   },
   "outputs": [],
   "source": [
    "import pandas as pd\n",
    "import numpy as np\n",
    "import time, os\n",
    "from bs4 import BeautifulSoup\n",
    "import datetime\n",
    "from selenium import webdriver\n",
    "from selenium.webdriver.common.action_chains import ActionChains\n",
    "from pymongo import MongoClient\n",
    "from dotenv import load_dotenv\n",
    "pd.set_option('display.width', 1000)\n",
    "pd.set_option('display.max_columns', None)"
   ]
  },
  {
   "cell_type": "code",
   "execution_count": 3,
   "id": "8898c4c7",
   "metadata": {},
   "outputs": [
    {
     "data": {
      "text/plain": [
       "True"
      ]
     },
     "execution_count": 3,
     "metadata": {},
     "output_type": "execute_result"
    }
   ],
   "source": [
    "load_dotenv()"
   ]
  },
  {
   "cell_type": "code",
   "execution_count": 4,
   "id": "b0ea019e",
   "metadata": {},
   "outputs": [],
   "source": [
    "mongo_pw = os.environ.get(\"MONGO_PW\")"
   ]
  },
  {
   "cell_type": "code",
   "execution_count": 5,
   "id": "d6558fd8",
   "metadata": {},
   "outputs": [],
   "source": [
    "client = MongoClient('mongodb+srv://natedirenzo:' + mongo_pw + '@coolkidscluster.grcwg.mongodb.net/myFirstDatabase?retryWrites=true&w=majority')\n"
   ]
  },
  {
   "cell_type": "code",
   "execution_count": 6,
   "id": "eca0c318",
   "metadata": {},
   "outputs": [
    {
     "data": {
      "text/plain": [
       "['admin', 'local']"
      ]
     },
     "execution_count": 6,
     "metadata": {},
     "output_type": "execute_result"
    }
   ],
   "source": [
    "client.list_database_names()"
   ]
  },
  {
   "cell_type": "code",
   "execution_count": 7,
   "id": "244fbf6c",
   "metadata": {
    "scrolled": true
   },
   "outputs": [],
   "source": [
    "base = datetime.datetime.today()\n",
    "delta = base - datetime.datetime(2021, 10, 19)\n",
    "date_list = [base - datetime.timedelta(days=x) for x in range(delta.days+1)]\n",
    "date_list = [d.strftime('%Y-%m-%d') for d in date_list]"
   ]
  },
  {
   "cell_type": "code",
   "execution_count": 8,
   "id": "3125f00c",
   "metadata": {
    "scrolled": true
   },
   "outputs": [],
   "source": [
    "#run this initially; then don't run again if you just want to keep adding to it\n",
    "final_df = pd.DataFrame()"
   ]
  },
  {
   "cell_type": "code",
   "execution_count": 9,
   "id": "acab9123",
   "metadata": {},
   "outputs": [],
   "source": [
    "bet_search =  'https://www.bettingpros.com/nba/picks/prop-bets/bet/points/?date='"
   ]
  },
  {
   "cell_type": "code",
   "execution_count": 10,
   "id": "797dab86",
   "metadata": {
    "scrolled": true
   },
   "outputs": [],
   "source": [
    "chromedriver = \"/Applications/chromedriver\"\n",
    "os.environ['webdriver.chrome.driver'] = chromedriver"
   ]
  },
  {
   "cell_type": "code",
   "execution_count": 11,
   "id": "3621f5c9",
   "metadata": {
    "scrolled": true
   },
   "outputs": [],
   "source": [
    "driver = webdriver.Chrome(chromedriver)"
   ]
  },
  {
   "cell_type": "code",
   "execution_count": 12,
   "id": "f6a274f0",
   "metadata": {
    "scrolled": true
   },
   "outputs": [],
   "source": [
    "# Tip of the hat to Rita for helping with these two functions !\n",
    "def get_site_rb(date):\n",
    "    bet_query = bet_search + date\n",
    "    driver.get(bet_query)\n",
    "    time.sleep(5)\n",
    "    try:\n",
    "        element = driver.find_element_by_xpath('//*[@id=\"onetrust-accept-btn-handler\"]')\n",
    "        action = ActionChains(driver)\n",
    "        action.move_to_element(element).click().perform()\n",
    "    except:\n",
    "        pass\n",
    "    get_data_rb()\n"
   ]
  },
  {
   "cell_type": "code",
   "execution_count": 13,
   "id": "00fe54d2",
   "metadata": {
    "scrolled": true
   },
   "outputs": [],
   "source": [
    "def get_data_rb():\n",
    "    data_str = []\n",
    "    data = []\n",
    "    li = []\n",
    "    soup = BeautifulSoup(driver.page_source, 'html.parser')\n",
    "    table = soup.find('table')\n",
    "    date = soup.find('h1').text\n",
    "    date = date.split(\" \")[5]\n",
    "    date.strip(')')\n",
    "    date = date.replace('(',\"\").replace(')',\"\")\n",
    "    house_accuracy = soup.find('div', class_='best-props__accuracy').text\n",
    "    table_data = table.tbody.find_all('tr')\n",
    "    for tr in table_data:\n",
    "        data_str.append(tr.text.replace('\\n', ' ').strip())\n",
    "    for i in data_str:\n",
    "        li = list(i.split('            '))\n",
    "        data.append(li)\n",
    "    for i in data:\n",
    "        if len(i) == 7:\n",
    "            i.append('TBD')\n",
    "            i.append(date)\n",
    "            i.append(house_accuracy)\n",
    "        else:\n",
    "            i.append(date)\n",
    "            i.append(house_accuracy)\n",
    "    global final_df\n",
    "    final_df = pd.concat([final_df, pd.DataFrame(data)])\n",
    "    time.sleep(1)\n",
    "\n",
    "    try:\n",
    "        page_progress = driver.find_element_by_xpath('//div[contains(@class, \"table__pagination\")]').text.strip(\"«\").strip(\"»\").strip()\n",
    "        if int(page_progress[5]) == int(page_progress[10]):\n",
    "            return final_df\n",
    "        else:\n",
    "            element = driver.find_element_by_xpath('/html/body/div[2]/main/div/div/div/div[4]/div/div/a[2]')\n",
    "            action = ActionChains(driver)\n",
    "            action.move_to_element(element).click().perform()\n",
    "            time.sleep(3)\n",
    "            get_data_rb()\n",
    "    except:\n",
    "        return final_df\n"
   ]
  },
  {
   "cell_type": "code",
   "execution_count": 14,
   "id": "235eddb0",
   "metadata": {
    "scrolled": true
   },
   "outputs": [],
   "source": [
    "#run this and then close the cookies pop-up! I really need to make a better error handler for this.\n",
    "for i in date_list:\n",
    "    \n",
    "    if i == '2021-12-24': #Christmas Eve\n",
    "        continue\n",
    "    if i == '2021-11-25': #Thanksgiving\n",
    "        continue\n",
    "    if i == '2022-02-18': #MLK\n",
    "        continue\n",
    "    if i == '2022-02-19': #All Star Break\n",
    "        continue\n",
    "    if i == '2022-02-20': #All Star Break\n",
    "        continue\n",
    "    if i == '2022-02-21': #All Star Break\n",
    "        continue\n",
    "    if i == '2022-02-22': #All Star Break\n",
    "        continue\n",
    "    if i == '2022-02-23': #All Star Break\n",
    "        continue\n",
    "    if i == '2022-04-04': #NCAA Championship\n",
    "        continue\n",
    "    get_site_rb(i)"
   ]
  },
  {
   "cell_type": "code",
   "execution_count": 15,
   "id": "962ae3a2",
   "metadata": {
    "scrolled": true
   },
   "outputs": [],
   "source": [
    "driver.close()"
   ]
  },
  {
   "cell_type": "code",
   "execution_count": 16,
   "id": "9068352b",
   "metadata": {
    "scrolled": true
   },
   "outputs": [],
   "source": [
    "#Clean up below\n",
    "final_df.columns=['Name', 'Team', 'Opp', 'Type', 'Line', 'Pick', 'Moneyline', 'Result', 'Date', 'Accuracy']"
   ]
  },
  {
   "cell_type": "code",
   "execution_count": 17,
   "id": "620b94d6",
   "metadata": {},
   "outputs": [],
   "source": [
    "final_df.reset_index(drop=True, inplace=True)"
   ]
  },
  {
   "cell_type": "code",
   "execution_count": 18,
   "id": "654e3956",
   "metadata": {},
   "outputs": [
    {
     "data": {
      "text/html": [
       "<div>\n",
       "<style scoped>\n",
       "    .dataframe tbody tr th:only-of-type {\n",
       "        vertical-align: middle;\n",
       "    }\n",
       "\n",
       "    .dataframe tbody tr th {\n",
       "        vertical-align: top;\n",
       "    }\n",
       "\n",
       "    .dataframe thead th {\n",
       "        text-align: right;\n",
       "    }\n",
       "</style>\n",
       "<table border=\"1\" class=\"dataframe\">\n",
       "  <thead>\n",
       "    <tr style=\"text-align: right;\">\n",
       "      <th></th>\n",
       "      <th>Name</th>\n",
       "      <th>Team</th>\n",
       "      <th>Opp</th>\n",
       "      <th>Type</th>\n",
       "      <th>Line</th>\n",
       "      <th>Pick</th>\n",
       "      <th>Moneyline</th>\n",
       "      <th>Result</th>\n",
       "      <th>Date</th>\n",
       "      <th>Accuracy</th>\n",
       "    </tr>\n",
       "  </thead>\n",
       "  <tbody>\n",
       "    <tr>\n",
       "      <th>0</th>\n",
       "      <td>1 J. Jalen  Green</td>\n",
       "      <td>HOU - G</td>\n",
       "      <td>@ BKN</td>\n",
       "      <td>Points</td>\n",
       "      <td>24.50 (-115)18.90Diff: -5.60 Line: 24.5...</td>\n",
       "      <td>24.5</td>\n",
       "      <td>-115 BetRivers</td>\n",
       "      <td>TBD</td>\n",
       "      <td>04-05-2022</td>\n",
       "      <td>Last 7 days Top 15  Accuracy: 39-50 (44%)  Sea...</td>\n",
       "    </tr>\n",
       "    <tr>\n",
       "      <th>1</th>\n",
       "      <td>2 T. Theo  Maledon</td>\n",
       "      <td>OKC - G</td>\n",
       "      <td>vs. POR</td>\n",
       "      <td>Points</td>\n",
       "      <td>17.50 (-113)12.60Diff: -4.90 Line: 17.5...</td>\n",
       "      <td>17.5</td>\n",
       "      <td>-113 BetRivers</td>\n",
       "      <td>TBD</td>\n",
       "      <td>04-05-2022</td>\n",
       "      <td>Last 7 days Top 15  Accuracy: 39-50 (44%)  Sea...</td>\n",
       "    </tr>\n",
       "    <tr>\n",
       "      <th>2</th>\n",
       "      <td>3 K. Kevin  Love</td>\n",
       "      <td>CLE - F</td>\n",
       "      <td>@ ORL</td>\n",
       "      <td>Points</td>\n",
       "      <td>11.50 (-115)16.30Diff: 4.80 Line: 11.50...</td>\n",
       "      <td>11.5</td>\n",
       "      <td>-115 PointsBet</td>\n",
       "      <td>TBD</td>\n",
       "      <td>04-05-2022</td>\n",
       "      <td>Last 7 days Top 15  Accuracy: 39-50 (44%)  Sea...</td>\n",
       "    </tr>\n",
       "    <tr>\n",
       "      <th>3</th>\n",
       "      <td>4 K. Keon  Johnson</td>\n",
       "      <td>POR - G</td>\n",
       "      <td>@ OKC</td>\n",
       "      <td>Points</td>\n",
       "      <td>13.50 (-105)9.00Diff: -4.50 Line: 13.50...</td>\n",
       "      <td>13.5</td>\n",
       "      <td>-105 PointsBet</td>\n",
       "      <td>TBD</td>\n",
       "      <td>04-05-2022</td>\n",
       "      <td>Last 7 days Top 15  Accuracy: 39-50 (44%)  Sea...</td>\n",
       "    </tr>\n",
       "    <tr>\n",
       "      <th>4</th>\n",
       "      <td>5 K. Keldon  Johnson</td>\n",
       "      <td>SAS - F</td>\n",
       "      <td>@ DEN</td>\n",
       "      <td>Points</td>\n",
       "      <td>21.50 (-135)17.60Diff: -3.90 Line: 21.5...</td>\n",
       "      <td>21.5</td>\n",
       "      <td>-135 PointsBet</td>\n",
       "      <td>TBD</td>\n",
       "      <td>04-05-2022</td>\n",
       "      <td>Last 7 days Top 15  Accuracy: 39-50 (44%)  Sea...</td>\n",
       "    </tr>\n",
       "    <tr>\n",
       "      <th>...</th>\n",
       "      <td>...</td>\n",
       "      <td>...</td>\n",
       "      <td>...</td>\n",
       "      <td>...</td>\n",
       "      <td>...</td>\n",
       "      <td>...</td>\n",
       "      <td>...</td>\n",
       "      <td>...</td>\n",
       "      <td>...</td>\n",
       "      <td>...</td>\n",
       "    </tr>\n",
       "    <tr>\n",
       "      <th>14867</th>\n",
       "      <td>22 G. Grayson  Allen</td>\n",
       "      <td>MIL - G</td>\n",
       "      <td>vs. BKN</td>\n",
       "      <td>Points</td>\n",
       "      <td>10.50 (-113)11.23Diff: 0.73 Line: 10.50...</td>\n",
       "      <td>10.5</td>\n",
       "      <td>-113 SugarHouse           10</td>\n",
       "      <td>TBD</td>\n",
       "      <td>10-19-2021</td>\n",
       "      <td>Season-to-date Top 15  Accuracy: 1174-1140 (5...</td>\n",
       "    </tr>\n",
       "    <tr>\n",
       "      <th>14868</th>\n",
       "      <td>23 N. Nemanja  Bjelica</td>\n",
       "      <td>GSW - F</td>\n",
       "      <td>@ LAL</td>\n",
       "      <td>Points</td>\n",
       "      <td>6.50 (-120)6.87Diff: 0.37 Line: 6.50 Co...</td>\n",
       "      <td>6.5</td>\n",
       "      <td>-120 bet365           15</td>\n",
       "      <td>TBD</td>\n",
       "      <td>10-19-2021</td>\n",
       "      <td>Season-to-date Top 15  Accuracy: 1174-1140 (5...</td>\n",
       "    </tr>\n",
       "    <tr>\n",
       "      <th>14869</th>\n",
       "      <td>24 D. DeAndre  Jordan</td>\n",
       "      <td>LAL - C</td>\n",
       "      <td>vs. GSW</td>\n",
       "      <td>Points</td>\n",
       "      <td>4.50 (-130)4.82Diff: 0.32 Line: 4.50 Co...</td>\n",
       "      <td>4.5</td>\n",
       "      <td>-130 bet365           2</td>\n",
       "      <td>TBD</td>\n",
       "      <td>10-19-2021</td>\n",
       "      <td>Season-to-date Top 15  Accuracy: 1174-1140 (5...</td>\n",
       "    </tr>\n",
       "    <tr>\n",
       "      <th>14870</th>\n",
       "      <td>25 P. Pat  Connaughton</td>\n",
       "      <td>MIL - G</td>\n",
       "      <td>vs. BKN</td>\n",
       "      <td>Points</td>\n",
       "      <td>7.50 (-111)7.19Diff: -0.31 Line: 7.50 C...</td>\n",
       "      <td>7.5</td>\n",
       "      <td>-111 BetMGM           20</td>\n",
       "      <td>TBD</td>\n",
       "      <td>10-19-2021</td>\n",
       "      <td>Season-to-date Top 15  Accuracy: 1174-1140 (5...</td>\n",
       "    </tr>\n",
       "    <tr>\n",
       "      <th>14871</th>\n",
       "      <td>26 G. Giannis  Antetokounmpo</td>\n",
       "      <td>MIL - F</td>\n",
       "      <td>vs. BKN</td>\n",
       "      <td>Points</td>\n",
       "      <td>30.50 (-108)30.52Diff: 0.02 Line: 30.50...</td>\n",
       "      <td>30.5</td>\n",
       "      <td>-108 FanDuel           32</td>\n",
       "      <td>TBD</td>\n",
       "      <td>10-19-2021</td>\n",
       "      <td>Season-to-date Top 15  Accuracy: 1174-1140 (5...</td>\n",
       "    </tr>\n",
       "  </tbody>\n",
       "</table>\n",
       "<p>14872 rows × 10 columns</p>\n",
       "</div>"
      ],
      "text/plain": [
       "                               Name     Team      Opp             Type                                               Line        Pick                       Moneyline Result        Date                                           Accuracy\n",
       "0                 1 J. Jalen  Green  HOU - G    @ BKN           Points         24.50 (-115)18.90Diff: -5.60 Line: 24.5...        24.5                  -115 BetRivers    TBD  04-05-2022  Last 7 days Top 15  Accuracy: 39-50 (44%)  Sea...\n",
       "1                2 T. Theo  Maledon  OKC - G  vs. POR           Points         17.50 (-113)12.60Diff: -4.90 Line: 17.5...        17.5                  -113 BetRivers    TBD  04-05-2022  Last 7 days Top 15  Accuracy: 39-50 (44%)  Sea...\n",
       "2                  3 K. Kevin  Love  CLE - F    @ ORL           Points         11.50 (-115)16.30Diff: 4.80 Line: 11.50...        11.5                  -115 PointsBet    TBD  04-05-2022  Last 7 days Top 15  Accuracy: 39-50 (44%)  Sea...\n",
       "3                4 K. Keon  Johnson  POR - G    @ OKC           Points         13.50 (-105)9.00Diff: -4.50 Line: 13.50...        13.5                  -105 PointsBet    TBD  04-05-2022  Last 7 days Top 15  Accuracy: 39-50 (44%)  Sea...\n",
       "4              5 K. Keldon  Johnson  SAS - F    @ DEN           Points         21.50 (-135)17.60Diff: -3.90 Line: 21.5...        21.5                  -135 PointsBet    TBD  04-05-2022  Last 7 days Top 15  Accuracy: 39-50 (44%)  Sea...\n",
       "...                             ...      ...      ...              ...                                                ...         ...                             ...    ...         ...                                                ...\n",
       "14867          22 G. Grayson  Allen  MIL - G  vs. BKN           Points         10.50 (-113)11.23Diff: 0.73 Line: 10.50...        10.5    -113 SugarHouse           10    TBD  10-19-2021   Season-to-date Top 15  Accuracy: 1174-1140 (5...\n",
       "14868        23 N. Nemanja  Bjelica  GSW - F    @ LAL           Points         6.50 (-120)6.87Diff: 0.37 Line: 6.50 Co...         6.5        -120 bet365           15    TBD  10-19-2021   Season-to-date Top 15  Accuracy: 1174-1140 (5...\n",
       "14869         24 D. DeAndre  Jordan  LAL - C  vs. GSW           Points         4.50 (-130)4.82Diff: 0.32 Line: 4.50 Co...         4.5         -130 bet365           2    TBD  10-19-2021   Season-to-date Top 15  Accuracy: 1174-1140 (5...\n",
       "14870        25 P. Pat  Connaughton  MIL - G  vs. BKN           Points         7.50 (-111)7.19Diff: -0.31 Line: 7.50 C...         7.5        -111 BetMGM           20    TBD  10-19-2021   Season-to-date Top 15  Accuracy: 1174-1140 (5...\n",
       "14871  26 G. Giannis  Antetokounmpo  MIL - F  vs. BKN           Points         30.50 (-108)30.52Diff: 0.02 Line: 30.50...        30.5       -108 FanDuel           32    TBD  10-19-2021   Season-to-date Top 15  Accuracy: 1174-1140 (5...\n",
       "\n",
       "[14872 rows x 10 columns]"
      ]
     },
     "execution_count": 18,
     "metadata": {},
     "output_type": "execute_result"
    }
   ],
   "source": [
    "final_df"
   ]
  },
  {
   "cell_type": "code",
   "execution_count": 19,
   "id": "73d1cf4b",
   "metadata": {
    "scrolled": true
   },
   "outputs": [],
   "source": [
    "player_name = final_df.Name.str.split(\" \", expand = True)\n",
    "final_df['Name'] = player_name[2] + ' ' + player_name[4]"
   ]
  },
  {
   "cell_type": "code",
   "execution_count": 20,
   "id": "38cbb683",
   "metadata": {
    "scrolled": true
   },
   "outputs": [],
   "source": [
    "team = final_df.Team.str.split(\" \", expand = True)\n",
    "final_df['Team'] = team[0]\n",
    "final_df['Position'] = team[2]"
   ]
  },
  {
   "cell_type": "code",
   "execution_count": 21,
   "id": "d694206e",
   "metadata": {
    "scrolled": true
   },
   "outputs": [],
   "source": [
    "opp = final_df.Opp.str.split(\" \", expand = True)\n",
    "final_df.Opp = opp[1]\n",
    "final_df['Home/Away'] = opp[0]"
   ]
  },
  {
   "cell_type": "code",
   "execution_count": 22,
   "id": "9a357447",
   "metadata": {
    "scrolled": true
   },
   "outputs": [],
   "source": [
    "bet_info = final_df.Line.str.split(\" \", expand = True)"
   ]
  },
  {
   "cell_type": "code",
   "execution_count": 23,
   "id": "07af1706",
   "metadata": {},
   "outputs": [
    {
     "data": {
      "text/html": [
       "<div>\n",
       "<style scoped>\n",
       "    .dataframe tbody tr th:only-of-type {\n",
       "        vertical-align: middle;\n",
       "    }\n",
       "\n",
       "    .dataframe tbody tr th {\n",
       "        vertical-align: top;\n",
       "    }\n",
       "\n",
       "    .dataframe thead th {\n",
       "        text-align: right;\n",
       "    }\n",
       "</style>\n",
       "<table border=\"1\" class=\"dataframe\">\n",
       "  <thead>\n",
       "    <tr style=\"text-align: right;\">\n",
       "      <th></th>\n",
       "      <th>0</th>\n",
       "      <th>1</th>\n",
       "      <th>2</th>\n",
       "      <th>3</th>\n",
       "      <th>4</th>\n",
       "      <th>5</th>\n",
       "      <th>6</th>\n",
       "      <th>7</th>\n",
       "      <th>8</th>\n",
       "      <th>9</th>\n",
       "      <th>10</th>\n",
       "      <th>11</th>\n",
       "      <th>12</th>\n",
       "      <th>13</th>\n",
       "      <th>14</th>\n",
       "    </tr>\n",
       "  </thead>\n",
       "  <tbody>\n",
       "    <tr>\n",
       "      <th>0</th>\n",
       "      <td></td>\n",
       "      <td></td>\n",
       "      <td>-115</td>\n",
       "      <td>BetRivers</td>\n",
       "      <td>None</td>\n",
       "      <td>None</td>\n",
       "      <td>None</td>\n",
       "      <td>None</td>\n",
       "      <td>None</td>\n",
       "      <td>None</td>\n",
       "      <td>None</td>\n",
       "      <td>None</td>\n",
       "      <td>None</td>\n",
       "      <td>None</td>\n",
       "      <td>None</td>\n",
       "    </tr>\n",
       "    <tr>\n",
       "      <th>1</th>\n",
       "      <td></td>\n",
       "      <td></td>\n",
       "      <td>-113</td>\n",
       "      <td>BetRivers</td>\n",
       "      <td>None</td>\n",
       "      <td>None</td>\n",
       "      <td>None</td>\n",
       "      <td>None</td>\n",
       "      <td>None</td>\n",
       "      <td>None</td>\n",
       "      <td>None</td>\n",
       "      <td>None</td>\n",
       "      <td>None</td>\n",
       "      <td>None</td>\n",
       "      <td>None</td>\n",
       "    </tr>\n",
       "    <tr>\n",
       "      <th>2</th>\n",
       "      <td></td>\n",
       "      <td></td>\n",
       "      <td>-115</td>\n",
       "      <td>PointsBet</td>\n",
       "      <td>None</td>\n",
       "      <td>None</td>\n",
       "      <td>None</td>\n",
       "      <td>None</td>\n",
       "      <td>None</td>\n",
       "      <td>None</td>\n",
       "      <td>None</td>\n",
       "      <td>None</td>\n",
       "      <td>None</td>\n",
       "      <td>None</td>\n",
       "      <td>None</td>\n",
       "    </tr>\n",
       "    <tr>\n",
       "      <th>3</th>\n",
       "      <td></td>\n",
       "      <td></td>\n",
       "      <td>-105</td>\n",
       "      <td>PointsBet</td>\n",
       "      <td>None</td>\n",
       "      <td>None</td>\n",
       "      <td>None</td>\n",
       "      <td>None</td>\n",
       "      <td>None</td>\n",
       "      <td>None</td>\n",
       "      <td>None</td>\n",
       "      <td>None</td>\n",
       "      <td>None</td>\n",
       "      <td>None</td>\n",
       "      <td>None</td>\n",
       "    </tr>\n",
       "    <tr>\n",
       "      <th>4</th>\n",
       "      <td></td>\n",
       "      <td></td>\n",
       "      <td>-135</td>\n",
       "      <td>PointsBet</td>\n",
       "      <td>None</td>\n",
       "      <td>None</td>\n",
       "      <td>None</td>\n",
       "      <td>None</td>\n",
       "      <td>None</td>\n",
       "      <td>None</td>\n",
       "      <td>None</td>\n",
       "      <td>None</td>\n",
       "      <td>None</td>\n",
       "      <td>None</td>\n",
       "      <td>None</td>\n",
       "    </tr>\n",
       "    <tr>\n",
       "      <th>...</th>\n",
       "      <td>...</td>\n",
       "      <td>...</td>\n",
       "      <td>...</td>\n",
       "      <td>...</td>\n",
       "      <td>...</td>\n",
       "      <td>...</td>\n",
       "      <td>...</td>\n",
       "      <td>...</td>\n",
       "      <td>...</td>\n",
       "      <td>...</td>\n",
       "      <td>...</td>\n",
       "      <td>...</td>\n",
       "      <td>...</td>\n",
       "      <td>...</td>\n",
       "      <td>...</td>\n",
       "    </tr>\n",
       "    <tr>\n",
       "      <th>14867</th>\n",
       "      <td></td>\n",
       "      <td></td>\n",
       "      <td>-113</td>\n",
       "      <td>SugarHouse</td>\n",
       "      <td></td>\n",
       "      <td></td>\n",
       "      <td></td>\n",
       "      <td></td>\n",
       "      <td></td>\n",
       "      <td></td>\n",
       "      <td></td>\n",
       "      <td></td>\n",
       "      <td></td>\n",
       "      <td></td>\n",
       "      <td>10</td>\n",
       "    </tr>\n",
       "    <tr>\n",
       "      <th>14868</th>\n",
       "      <td></td>\n",
       "      <td></td>\n",
       "      <td>-120</td>\n",
       "      <td>bet365</td>\n",
       "      <td></td>\n",
       "      <td></td>\n",
       "      <td></td>\n",
       "      <td></td>\n",
       "      <td></td>\n",
       "      <td></td>\n",
       "      <td></td>\n",
       "      <td></td>\n",
       "      <td></td>\n",
       "      <td></td>\n",
       "      <td>15</td>\n",
       "    </tr>\n",
       "    <tr>\n",
       "      <th>14869</th>\n",
       "      <td></td>\n",
       "      <td></td>\n",
       "      <td>-130</td>\n",
       "      <td>bet365</td>\n",
       "      <td></td>\n",
       "      <td></td>\n",
       "      <td></td>\n",
       "      <td></td>\n",
       "      <td></td>\n",
       "      <td></td>\n",
       "      <td></td>\n",
       "      <td></td>\n",
       "      <td></td>\n",
       "      <td></td>\n",
       "      <td>2</td>\n",
       "    </tr>\n",
       "    <tr>\n",
       "      <th>14870</th>\n",
       "      <td></td>\n",
       "      <td></td>\n",
       "      <td>-111</td>\n",
       "      <td>BetMGM</td>\n",
       "      <td></td>\n",
       "      <td></td>\n",
       "      <td></td>\n",
       "      <td></td>\n",
       "      <td></td>\n",
       "      <td></td>\n",
       "      <td></td>\n",
       "      <td></td>\n",
       "      <td></td>\n",
       "      <td></td>\n",
       "      <td>20</td>\n",
       "    </tr>\n",
       "    <tr>\n",
       "      <th>14871</th>\n",
       "      <td></td>\n",
       "      <td></td>\n",
       "      <td>-108</td>\n",
       "      <td>FanDuel</td>\n",
       "      <td></td>\n",
       "      <td></td>\n",
       "      <td></td>\n",
       "      <td></td>\n",
       "      <td></td>\n",
       "      <td></td>\n",
       "      <td></td>\n",
       "      <td></td>\n",
       "      <td></td>\n",
       "      <td></td>\n",
       "      <td>32</td>\n",
       "    </tr>\n",
       "  </tbody>\n",
       "</table>\n",
       "<p>14872 rows × 15 columns</p>\n",
       "</div>"
      ],
      "text/plain": [
       "      0  1     2           3     4     5     6     7     8     9     10    11    12    13    14\n",
       "0            -115   BetRivers  None  None  None  None  None  None  None  None  None  None  None\n",
       "1            -113   BetRivers  None  None  None  None  None  None  None  None  None  None  None\n",
       "2            -115   PointsBet  None  None  None  None  None  None  None  None  None  None  None\n",
       "3            -105   PointsBet  None  None  None  None  None  None  None  None  None  None  None\n",
       "4            -135   PointsBet  None  None  None  None  None  None  None  None  None  None  None\n",
       "...   .. ..   ...         ...   ...   ...   ...   ...   ...   ...   ...   ...   ...   ...   ...\n",
       "14867        -113  SugarHouse                                                                10\n",
       "14868        -120      bet365                                                                15\n",
       "14869        -130      bet365                                                                 2\n",
       "14870        -111      BetMGM                                                                20\n",
       "14871        -108     FanDuel                                                                32\n",
       "\n",
       "[14872 rows x 15 columns]"
      ]
     },
     "execution_count": 23,
     "metadata": {},
     "output_type": "execute_result"
    }
   ],
   "source": [
    "money_line = final_df.Moneyline.str.split(\" \", expand = True);money_line"
   ]
  },
  {
   "cell_type": "code",
   "execution_count": 24,
   "id": "f0ccd887",
   "metadata": {},
   "outputs": [
    {
     "data": {
      "text/plain": [
       "BetMGM         5186\n",
       "SugarHouse     4310\n",
       "bet365         3315\n",
       "PointsBet      1958\n",
       "UniBet           44\n",
       "BetRivers        38\n",
       "PartyCasino      17\n",
       "FanDuel           4\n",
       "Name: 3, dtype: int64"
      ]
     },
     "execution_count": 24,
     "metadata": {},
     "output_type": "execute_result"
    }
   ],
   "source": [
    "money_line[3].value_counts()"
   ]
  },
  {
   "cell_type": "code",
   "execution_count": 25,
   "id": "e9c16d30",
   "metadata": {},
   "outputs": [],
   "source": [
    "for i in money_line[3]:\n",
    "    for j in final_df['Result']:\n",
    "        if i == None:\n",
    "            continue\n",
    "        elif i.isdigit() == True and j == 'TBD':\n",
    "            j == i\n",
    "        else:\n",
    "            continue"
   ]
  },
  {
   "cell_type": "code",
   "execution_count": 26,
   "id": "6834d7b8",
   "metadata": {
    "scrolled": true
   },
   "outputs": [],
   "source": [
    "final_df['Line'] = bet_info[7]\n",
    "final_df['Projection'] = bet_info[15]\n",
    "final_df['Diff'] = bet_info[9]\n",
    "final_df['Moneyline'] = bet_info[13]\n",
    "if len(bet_info[bet_info[16] == '']) > 0:\n",
    "    final_df['over_under'] = bet_info[19]\n",
    "else:\n",
    "    final_df['over_under'] = bet_info[16]\n",
    "final_df['over_under'] = final_df['over_under'].fillna('o')"
   ]
  },
  {
   "cell_type": "code",
   "execution_count": 27,
   "id": "bd585653",
   "metadata": {
    "scrolled": true
   },
   "outputs": [],
   "source": [
    "final_df = final_df[['Date', 'Name', 'Team', 'Position', 'Opp','Home/Away', 'Line', 'Moneyline', 'Projection', 'Diff', 'Pick', 'Result', 'Accuracy', 'over_under']]"
   ]
  },
  {
   "cell_type": "code",
   "execution_count": 28,
   "id": "c0807891",
   "metadata": {},
   "outputs": [
    {
     "data": {
      "text/html": [
       "<div>\n",
       "<style scoped>\n",
       "    .dataframe tbody tr th:only-of-type {\n",
       "        vertical-align: middle;\n",
       "    }\n",
       "\n",
       "    .dataframe tbody tr th {\n",
       "        vertical-align: top;\n",
       "    }\n",
       "\n",
       "    .dataframe thead th {\n",
       "        text-align: right;\n",
       "    }\n",
       "</style>\n",
       "<table border=\"1\" class=\"dataframe\">\n",
       "  <thead>\n",
       "    <tr style=\"text-align: right;\">\n",
       "      <th></th>\n",
       "      <th>Date</th>\n",
       "      <th>Name</th>\n",
       "      <th>Team</th>\n",
       "      <th>Position</th>\n",
       "      <th>Opp</th>\n",
       "      <th>Home/Away</th>\n",
       "      <th>Line</th>\n",
       "      <th>Moneyline</th>\n",
       "      <th>Projection</th>\n",
       "      <th>Diff</th>\n",
       "      <th>Pick</th>\n",
       "      <th>Result</th>\n",
       "      <th>Accuracy</th>\n",
       "      <th>over_under</th>\n",
       "    </tr>\n",
       "  </thead>\n",
       "  <tbody>\n",
       "    <tr>\n",
       "      <th>0</th>\n",
       "      <td>04-05-2022</td>\n",
       "      <td>Jalen Green</td>\n",
       "      <td>HOU</td>\n",
       "      <td>G</td>\n",
       "      <td>BKN</td>\n",
       "      <td>@</td>\n",
       "      <td>24.50</td>\n",
       "      <td>-115</td>\n",
       "      <td>18.90</td>\n",
       "      <td>-5.60</td>\n",
       "      <td>24.5</td>\n",
       "      <td>TBD</td>\n",
       "      <td>Last 7 days Top 15  Accuracy: 39-50 (44%)  Sea...</td>\n",
       "      <td>u</td>\n",
       "    </tr>\n",
       "    <tr>\n",
       "      <th>1</th>\n",
       "      <td>04-05-2022</td>\n",
       "      <td>Theo Maledon</td>\n",
       "      <td>OKC</td>\n",
       "      <td>G</td>\n",
       "      <td>POR</td>\n",
       "      <td>vs.</td>\n",
       "      <td>17.50</td>\n",
       "      <td>-113</td>\n",
       "      <td>12.60</td>\n",
       "      <td>-4.90</td>\n",
       "      <td>17.5</td>\n",
       "      <td>TBD</td>\n",
       "      <td>Last 7 days Top 15  Accuracy: 39-50 (44%)  Sea...</td>\n",
       "      <td>u</td>\n",
       "    </tr>\n",
       "    <tr>\n",
       "      <th>2</th>\n",
       "      <td>04-05-2022</td>\n",
       "      <td>Kevin Love</td>\n",
       "      <td>CLE</td>\n",
       "      <td>F</td>\n",
       "      <td>ORL</td>\n",
       "      <td>@</td>\n",
       "      <td>11.50</td>\n",
       "      <td>-115</td>\n",
       "      <td>16.30</td>\n",
       "      <td>4.80</td>\n",
       "      <td>11.5</td>\n",
       "      <td>TBD</td>\n",
       "      <td>Last 7 days Top 15  Accuracy: 39-50 (44%)  Sea...</td>\n",
       "      <td>o</td>\n",
       "    </tr>\n",
       "    <tr>\n",
       "      <th>3</th>\n",
       "      <td>04-05-2022</td>\n",
       "      <td>Keon Johnson</td>\n",
       "      <td>POR</td>\n",
       "      <td>G</td>\n",
       "      <td>OKC</td>\n",
       "      <td>@</td>\n",
       "      <td>13.50</td>\n",
       "      <td>-105</td>\n",
       "      <td>9.00</td>\n",
       "      <td>-4.50</td>\n",
       "      <td>13.5</td>\n",
       "      <td>TBD</td>\n",
       "      <td>Last 7 days Top 15  Accuracy: 39-50 (44%)  Sea...</td>\n",
       "      <td>u</td>\n",
       "    </tr>\n",
       "    <tr>\n",
       "      <th>4</th>\n",
       "      <td>04-05-2022</td>\n",
       "      <td>Keldon Johnson</td>\n",
       "      <td>SAS</td>\n",
       "      <td>F</td>\n",
       "      <td>DEN</td>\n",
       "      <td>@</td>\n",
       "      <td>21.50</td>\n",
       "      <td>-135</td>\n",
       "      <td>17.60</td>\n",
       "      <td>-3.90</td>\n",
       "      <td>21.5</td>\n",
       "      <td>TBD</td>\n",
       "      <td>Last 7 days Top 15  Accuracy: 39-50 (44%)  Sea...</td>\n",
       "      <td>u</td>\n",
       "    </tr>\n",
       "    <tr>\n",
       "      <th>...</th>\n",
       "      <td>...</td>\n",
       "      <td>...</td>\n",
       "      <td>...</td>\n",
       "      <td>...</td>\n",
       "      <td>...</td>\n",
       "      <td>...</td>\n",
       "      <td>...</td>\n",
       "      <td>...</td>\n",
       "      <td>...</td>\n",
       "      <td>...</td>\n",
       "      <td>...</td>\n",
       "      <td>...</td>\n",
       "      <td>...</td>\n",
       "      <td>...</td>\n",
       "    </tr>\n",
       "    <tr>\n",
       "      <th>14867</th>\n",
       "      <td>10-19-2021</td>\n",
       "      <td>Grayson Allen</td>\n",
       "      <td>MIL</td>\n",
       "      <td>G</td>\n",
       "      <td>BKN</td>\n",
       "      <td>vs.</td>\n",
       "      <td>10.50</td>\n",
       "      <td>-113</td>\n",
       "      <td>11.23</td>\n",
       "      <td>0.73</td>\n",
       "      <td>10.5</td>\n",
       "      <td>TBD</td>\n",
       "      <td>Season-to-date Top 15  Accuracy: 1174-1140 (5...</td>\n",
       "      <td>o</td>\n",
       "    </tr>\n",
       "    <tr>\n",
       "      <th>14868</th>\n",
       "      <td>10-19-2021</td>\n",
       "      <td>Nemanja Bjelica</td>\n",
       "      <td>GSW</td>\n",
       "      <td>F</td>\n",
       "      <td>LAL</td>\n",
       "      <td>@</td>\n",
       "      <td>6.50</td>\n",
       "      <td>-120</td>\n",
       "      <td>6.87</td>\n",
       "      <td>0.37</td>\n",
       "      <td>6.5</td>\n",
       "      <td>TBD</td>\n",
       "      <td>Season-to-date Top 15  Accuracy: 1174-1140 (5...</td>\n",
       "      <td>o</td>\n",
       "    </tr>\n",
       "    <tr>\n",
       "      <th>14869</th>\n",
       "      <td>10-19-2021</td>\n",
       "      <td>DeAndre Jordan</td>\n",
       "      <td>LAL</td>\n",
       "      <td>C</td>\n",
       "      <td>GSW</td>\n",
       "      <td>vs.</td>\n",
       "      <td>4.50</td>\n",
       "      <td>-130</td>\n",
       "      <td>4.82</td>\n",
       "      <td>0.32</td>\n",
       "      <td>4.5</td>\n",
       "      <td>TBD</td>\n",
       "      <td>Season-to-date Top 15  Accuracy: 1174-1140 (5...</td>\n",
       "      <td>o</td>\n",
       "    </tr>\n",
       "    <tr>\n",
       "      <th>14870</th>\n",
       "      <td>10-19-2021</td>\n",
       "      <td>Pat Connaughton</td>\n",
       "      <td>MIL</td>\n",
       "      <td>G</td>\n",
       "      <td>BKN</td>\n",
       "      <td>vs.</td>\n",
       "      <td>7.50</td>\n",
       "      <td>-111</td>\n",
       "      <td>7.19</td>\n",
       "      <td>-0.31</td>\n",
       "      <td>7.5</td>\n",
       "      <td>TBD</td>\n",
       "      <td>Season-to-date Top 15  Accuracy: 1174-1140 (5...</td>\n",
       "      <td>u</td>\n",
       "    </tr>\n",
       "    <tr>\n",
       "      <th>14871</th>\n",
       "      <td>10-19-2021</td>\n",
       "      <td>Giannis Antetokounmpo</td>\n",
       "      <td>MIL</td>\n",
       "      <td>F</td>\n",
       "      <td>BKN</td>\n",
       "      <td>vs.</td>\n",
       "      <td>30.50</td>\n",
       "      <td>-108</td>\n",
       "      <td>30.52</td>\n",
       "      <td>0.02</td>\n",
       "      <td>30.5</td>\n",
       "      <td>TBD</td>\n",
       "      <td>Season-to-date Top 15  Accuracy: 1174-1140 (5...</td>\n",
       "      <td>o</td>\n",
       "    </tr>\n",
       "  </tbody>\n",
       "</table>\n",
       "<p>14872 rows × 14 columns</p>\n",
       "</div>"
      ],
      "text/plain": [
       "             Date                   Name Team Position  Opp Home/Away   Line Moneyline Projection   Diff        Pick Result                                           Accuracy over_under\n",
       "0      04-05-2022            Jalen Green  HOU        G  BKN         @  24.50      -115      18.90  -5.60        24.5    TBD  Last 7 days Top 15  Accuracy: 39-50 (44%)  Sea...          u\n",
       "1      04-05-2022           Theo Maledon  OKC        G  POR       vs.  17.50      -113      12.60  -4.90        17.5    TBD  Last 7 days Top 15  Accuracy: 39-50 (44%)  Sea...          u\n",
       "2      04-05-2022             Kevin Love  CLE        F  ORL         @  11.50      -115      16.30   4.80        11.5    TBD  Last 7 days Top 15  Accuracy: 39-50 (44%)  Sea...          o\n",
       "3      04-05-2022           Keon Johnson  POR        G  OKC         @  13.50      -105       9.00  -4.50        13.5    TBD  Last 7 days Top 15  Accuracy: 39-50 (44%)  Sea...          u\n",
       "4      04-05-2022         Keldon Johnson  SAS        F  DEN         @  21.50      -135      17.60  -3.90        21.5    TBD  Last 7 days Top 15  Accuracy: 39-50 (44%)  Sea...          u\n",
       "...           ...                    ...  ...      ...  ...       ...    ...       ...        ...    ...         ...    ...                                                ...        ...\n",
       "14867  10-19-2021          Grayson Allen  MIL        G  BKN       vs.  10.50      -113      11.23   0.73        10.5    TBD   Season-to-date Top 15  Accuracy: 1174-1140 (5...          o\n",
       "14868  10-19-2021        Nemanja Bjelica  GSW        F  LAL         @   6.50      -120       6.87   0.37         6.5    TBD   Season-to-date Top 15  Accuracy: 1174-1140 (5...          o\n",
       "14869  10-19-2021         DeAndre Jordan  LAL        C  GSW       vs.   4.50      -130       4.82   0.32         4.5    TBD   Season-to-date Top 15  Accuracy: 1174-1140 (5...          o\n",
       "14870  10-19-2021        Pat Connaughton  MIL        G  BKN       vs.   7.50      -111       7.19  -0.31         7.5    TBD   Season-to-date Top 15  Accuracy: 1174-1140 (5...          u\n",
       "14871  10-19-2021  Giannis Antetokounmpo  MIL        F  BKN       vs.  30.50      -108      30.52   0.02        30.5    TBD   Season-to-date Top 15  Accuracy: 1174-1140 (5...          o\n",
       "\n",
       "[14872 rows x 14 columns]"
      ]
     },
     "execution_count": 28,
     "metadata": {},
     "output_type": "execute_result"
    }
   ],
   "source": [
    "final_df"
   ]
  },
  {
   "cell_type": "code",
   "execution_count": 29,
   "id": "4c0b6c72",
   "metadata": {},
   "outputs": [],
   "source": [
    "final_df = final_df.copy()"
   ]
  },
  {
   "cell_type": "code",
   "execution_count": 30,
   "id": "65d9900b",
   "metadata": {
    "scrolled": true
   },
   "outputs": [],
   "source": [
    "final_df['Projection'] = final_df['Projection'].map(lambda x: x.rstrip('ou'))"
   ]
  },
  {
   "cell_type": "code",
   "execution_count": 31,
   "id": "f8e20d1c",
   "metadata": {
    "scrolled": true
   },
   "outputs": [],
   "source": [
    "accuracies = final_df.Accuracy.str.split(\" \", expand = True)"
   ]
  },
  {
   "cell_type": "code",
   "execution_count": 32,
   "id": "b0672ae5",
   "metadata": {
    "scrolled": false
   },
   "outputs": [],
   "source": [
    "final_df['seven_day_accuracy'] = accuracies[8]"
   ]
  },
  {
   "cell_type": "code",
   "execution_count": 33,
   "id": "14816398",
   "metadata": {
    "scrolled": false
   },
   "outputs": [],
   "source": [
    "final_df['seven_day_accuracy'] = final_df['seven_day_accuracy'].map(lambda x: x.lstrip('(').rstrip('%)'))"
   ]
  },
  {
   "cell_type": "code",
   "execution_count": 34,
   "id": "f4e1a8e9",
   "metadata": {
    "scrolled": true
   },
   "outputs": [],
   "source": [
    "final_df.seven_day_accuracy = final_df.seven_day_accuracy.replace('', 50, regex=True)"
   ]
  },
  {
   "cell_type": "code",
   "execution_count": 35,
   "id": "e610cba1",
   "metadata": {
    "scrolled": true
   },
   "outputs": [],
   "source": [
    "final_df['seven_day_accuracy'] = pd.to_numeric(final_df['seven_day_accuracy'])"
   ]
  },
  {
   "cell_type": "code",
   "execution_count": 36,
   "id": "31b410a9",
   "metadata": {
    "scrolled": false
   },
   "outputs": [],
   "source": [
    "final_df['seven_day_accuracy'] = final_df['seven_day_accuracy'].map(lambda x: x/100)"
   ]
  },
  {
   "cell_type": "code",
   "execution_count": 37,
   "id": "ab5074ca",
   "metadata": {
    "scrolled": true
   },
   "outputs": [],
   "source": [
    "final_df.drop(columns=['Accuracy'], inplace=True)"
   ]
  },
  {
   "cell_type": "code",
   "execution_count": 38,
   "id": "7ce36d3b",
   "metadata": {},
   "outputs": [],
   "source": [
    "final_df['Date'] = pd.to_datetime(final_df['Date'])"
   ]
  },
  {
   "cell_type": "code",
   "execution_count": 39,
   "id": "455441a4",
   "metadata": {
    "scrolled": true
   },
   "outputs": [],
   "source": [
    "# Final form betting df, additional cleaning and saving to csv below\n",
    "sorted_df = final_df.sort_values(by=['Name', 'Date'])\n",
    "sorted_df.reset_index(inplace=True, drop=True)"
   ]
  },
  {
   "cell_type": "code",
   "execution_count": 40,
   "id": "e42b4a0c",
   "metadata": {
    "scrolled": true
   },
   "outputs": [],
   "source": [
    "sorted_df['Line'] = pd.to_numeric(sorted_df.Line)"
   ]
  },
  {
   "cell_type": "code",
   "execution_count": 41,
   "id": "f25158a9",
   "metadata": {
    "scrolled": true
   },
   "outputs": [],
   "source": [
    "sorted_df = sorted_df.replace('EVEN', '+100')"
   ]
  },
  {
   "cell_type": "code",
   "execution_count": 42,
   "id": "1fb9ac8f",
   "metadata": {
    "scrolled": false
   },
   "outputs": [],
   "source": [
    "sorted_df = sorted_df.replace('TBD', None)"
   ]
  },
  {
   "cell_type": "code",
   "execution_count": 43,
   "id": "da39c6be",
   "metadata": {
    "scrolled": true
   },
   "outputs": [],
   "source": [
    "sorted_df['Moneyline'] = pd.to_numeric(sorted_df.Moneyline)"
   ]
  },
  {
   "cell_type": "code",
   "execution_count": 44,
   "id": "5158b498",
   "metadata": {},
   "outputs": [],
   "source": [
    "sorted_df['Result'] = sorted_df.Result.apply(lambda x: str(x))"
   ]
  },
  {
   "cell_type": "code",
   "execution_count": 45,
   "id": "b38c30f5",
   "metadata": {},
   "outputs": [
    {
     "data": {
      "text/html": [
       "<div>\n",
       "<style scoped>\n",
       "    .dataframe tbody tr th:only-of-type {\n",
       "        vertical-align: middle;\n",
       "    }\n",
       "\n",
       "    .dataframe tbody tr th {\n",
       "        vertical-align: top;\n",
       "    }\n",
       "\n",
       "    .dataframe thead th {\n",
       "        text-align: right;\n",
       "    }\n",
       "</style>\n",
       "<table border=\"1\" class=\"dataframe\">\n",
       "  <thead>\n",
       "    <tr style=\"text-align: right;\">\n",
       "      <th></th>\n",
       "      <th>0</th>\n",
       "    </tr>\n",
       "  </thead>\n",
       "  <tbody>\n",
       "    <tr>\n",
       "      <th>0</th>\n",
       "      <td>None</td>\n",
       "    </tr>\n",
       "    <tr>\n",
       "      <th>1</th>\n",
       "      <td>None</td>\n",
       "    </tr>\n",
       "    <tr>\n",
       "      <th>2</th>\n",
       "      <td>None</td>\n",
       "    </tr>\n",
       "    <tr>\n",
       "      <th>3</th>\n",
       "      <td>None</td>\n",
       "    </tr>\n",
       "    <tr>\n",
       "      <th>4</th>\n",
       "      <td>None</td>\n",
       "    </tr>\n",
       "    <tr>\n",
       "      <th>...</th>\n",
       "      <td>...</td>\n",
       "    </tr>\n",
       "    <tr>\n",
       "      <th>14867</th>\n",
       "      <td>None</td>\n",
       "    </tr>\n",
       "    <tr>\n",
       "      <th>14868</th>\n",
       "      <td>None</td>\n",
       "    </tr>\n",
       "    <tr>\n",
       "      <th>14869</th>\n",
       "      <td>None</td>\n",
       "    </tr>\n",
       "    <tr>\n",
       "      <th>14870</th>\n",
       "      <td>None</td>\n",
       "    </tr>\n",
       "    <tr>\n",
       "      <th>14871</th>\n",
       "      <td>None</td>\n",
       "    </tr>\n",
       "  </tbody>\n",
       "</table>\n",
       "<p>14872 rows × 1 columns</p>\n",
       "</div>"
      ],
      "text/plain": [
       "          0\n",
       "0      None\n",
       "1      None\n",
       "2      None\n",
       "3      None\n",
       "4      None\n",
       "...     ...\n",
       "14867  None\n",
       "14868  None\n",
       "14869  None\n",
       "14870  None\n",
       "14871  None\n",
       "\n",
       "[14872 rows x 1 columns]"
      ]
     },
     "execution_count": 45,
     "metadata": {},
     "output_type": "execute_result"
    }
   ],
   "source": [
    "results = sorted_df.Result.str.split(\" \", expand = True);results"
   ]
  },
  {
   "cell_type": "code",
   "execution_count": 46,
   "id": "8668a43b",
   "metadata": {},
   "outputs": [
    {
     "ename": "KeyError",
     "evalue": "3",
     "output_type": "error",
     "traceback": [
      "\u001b[0;31m---------------------------------------------------------------------------\u001b[0m",
      "\u001b[0;31mValueError\u001b[0m                                Traceback (most recent call last)",
      "File \u001b[0;32m~/opt/anaconda3/envs/engineering/lib/python3.8/site-packages/pandas/core/indexes/range.py:385\u001b[0m, in \u001b[0;36mRangeIndex.get_loc\u001b[0;34m(self, key, method, tolerance)\u001b[0m\n\u001b[1;32m    <a href='file:///Users/nathanieldirenzo/opt/anaconda3/envs/engineering/lib/python3.8/site-packages/pandas/core/indexes/range.py?line=383'>384</a>\u001b[0m \u001b[39mtry\u001b[39;00m:\n\u001b[0;32m--> <a href='file:///Users/nathanieldirenzo/opt/anaconda3/envs/engineering/lib/python3.8/site-packages/pandas/core/indexes/range.py?line=384'>385</a>\u001b[0m     \u001b[39mreturn\u001b[39;00m \u001b[39mself\u001b[39;49m\u001b[39m.\u001b[39;49m_range\u001b[39m.\u001b[39;49mindex(new_key)\n\u001b[1;32m    <a href='file:///Users/nathanieldirenzo/opt/anaconda3/envs/engineering/lib/python3.8/site-packages/pandas/core/indexes/range.py?line=385'>386</a>\u001b[0m \u001b[39mexcept\u001b[39;00m \u001b[39mValueError\u001b[39;00m \u001b[39mas\u001b[39;00m err:\n",
      "\u001b[0;31mValueError\u001b[0m: 3 is not in range",
      "\nThe above exception was the direct cause of the following exception:\n",
      "\u001b[0;31mKeyError\u001b[0m                                  Traceback (most recent call last)",
      "\u001b[1;32m/Users/nathanieldirenzo/Documents/GitHub/Prop_Betting_Regression_Project/application.ipynb Cell 46'\u001b[0m in \u001b[0;36m<module>\u001b[0;34m\u001b[0m\n\u001b[0;32m----> <a href='vscode-notebook-cell:/Users/nathanieldirenzo/Documents/GitHub/Prop_Betting_Regression_Project/application.ipynb#ch0000044?line=0'>1</a>\u001b[0m sorted_df\u001b[39m.\u001b[39mResult \u001b[39m=\u001b[39m results[\u001b[39m3\u001b[39;49m]\n",
      "File \u001b[0;32m~/opt/anaconda3/envs/engineering/lib/python3.8/site-packages/pandas/core/frame.py:3506\u001b[0m, in \u001b[0;36mDataFrame.__getitem__\u001b[0;34m(self, key)\u001b[0m\n\u001b[1;32m   <a href='file:///Users/nathanieldirenzo/opt/anaconda3/envs/engineering/lib/python3.8/site-packages/pandas/core/frame.py?line=3503'>3504</a>\u001b[0m \u001b[39mif\u001b[39;00m \u001b[39mself\u001b[39m\u001b[39m.\u001b[39mcolumns\u001b[39m.\u001b[39mnlevels \u001b[39m>\u001b[39m \u001b[39m1\u001b[39m:\n\u001b[1;32m   <a href='file:///Users/nathanieldirenzo/opt/anaconda3/envs/engineering/lib/python3.8/site-packages/pandas/core/frame.py?line=3504'>3505</a>\u001b[0m     \u001b[39mreturn\u001b[39;00m \u001b[39mself\u001b[39m\u001b[39m.\u001b[39m_getitem_multilevel(key)\n\u001b[0;32m-> <a href='file:///Users/nathanieldirenzo/opt/anaconda3/envs/engineering/lib/python3.8/site-packages/pandas/core/frame.py?line=3505'>3506</a>\u001b[0m indexer \u001b[39m=\u001b[39m \u001b[39mself\u001b[39;49m\u001b[39m.\u001b[39;49mcolumns\u001b[39m.\u001b[39;49mget_loc(key)\n\u001b[1;32m   <a href='file:///Users/nathanieldirenzo/opt/anaconda3/envs/engineering/lib/python3.8/site-packages/pandas/core/frame.py?line=3506'>3507</a>\u001b[0m \u001b[39mif\u001b[39;00m is_integer(indexer):\n\u001b[1;32m   <a href='file:///Users/nathanieldirenzo/opt/anaconda3/envs/engineering/lib/python3.8/site-packages/pandas/core/frame.py?line=3507'>3508</a>\u001b[0m     indexer \u001b[39m=\u001b[39m [indexer]\n",
      "File \u001b[0;32m~/opt/anaconda3/envs/engineering/lib/python3.8/site-packages/pandas/core/indexes/range.py:387\u001b[0m, in \u001b[0;36mRangeIndex.get_loc\u001b[0;34m(self, key, method, tolerance)\u001b[0m\n\u001b[1;32m    <a href='file:///Users/nathanieldirenzo/opt/anaconda3/envs/engineering/lib/python3.8/site-packages/pandas/core/indexes/range.py?line=384'>385</a>\u001b[0m         \u001b[39mreturn\u001b[39;00m \u001b[39mself\u001b[39m\u001b[39m.\u001b[39m_range\u001b[39m.\u001b[39mindex(new_key)\n\u001b[1;32m    <a href='file:///Users/nathanieldirenzo/opt/anaconda3/envs/engineering/lib/python3.8/site-packages/pandas/core/indexes/range.py?line=385'>386</a>\u001b[0m     \u001b[39mexcept\u001b[39;00m \u001b[39mValueError\u001b[39;00m \u001b[39mas\u001b[39;00m err:\n\u001b[0;32m--> <a href='file:///Users/nathanieldirenzo/opt/anaconda3/envs/engineering/lib/python3.8/site-packages/pandas/core/indexes/range.py?line=386'>387</a>\u001b[0m         \u001b[39mraise\u001b[39;00m \u001b[39mKeyError\u001b[39;00m(key) \u001b[39mfrom\u001b[39;00m \u001b[39merr\u001b[39;00m\n\u001b[1;32m    <a href='file:///Users/nathanieldirenzo/opt/anaconda3/envs/engineering/lib/python3.8/site-packages/pandas/core/indexes/range.py?line=387'>388</a>\u001b[0m \u001b[39mself\u001b[39m\u001b[39m.\u001b[39m_check_indexing_error(key)\n\u001b[1;32m    <a href='file:///Users/nathanieldirenzo/opt/anaconda3/envs/engineering/lib/python3.8/site-packages/pandas/core/indexes/range.py?line=388'>389</a>\u001b[0m \u001b[39mraise\u001b[39;00m \u001b[39mKeyError\u001b[39;00m(key)\n",
      "\u001b[0;31mKeyError\u001b[0m: 3"
     ]
    }
   ],
   "source": [
    "sorted_df.Result = results[3]"
   ]
  },
  {
   "cell_type": "code",
   "execution_count": null,
   "id": "bd77c572",
   "metadata": {
    "scrolled": true
   },
   "outputs": [],
   "source": [
    "sorted_df['Projection'] = pd.to_numeric(sorted_df.Projection)\n",
    "sorted_df['Diff'] = pd.to_numeric(sorted_df.Diff)\n",
    "sorted_df['Result'] = pd.to_numeric(sorted_df.Result)\n",
    "sorted_df['Pick'] = pd.to_numeric(sorted_df.Pick)\n",
    "sorted_df"
   ]
  },
  {
   "cell_type": "code",
   "execution_count": null,
   "id": "8d9abb2e",
   "metadata": {
    "scrolled": true
   },
   "outputs": [],
   "source": [
    "# Determine if website pick was a win or loss (for fun, potential spinoff angle).\n",
    "conditions = [\n",
    "    ((sorted_df['Result'] < sorted_df['Pick']) & (sorted_df['over_under'] == 'u')),\n",
    "    ((sorted_df['Result'] < sorted_df['Pick']) & (sorted_df['over_under'] == 'o')),\n",
    "    ((sorted_df['Result'] > sorted_df['Pick']) & (sorted_df['over_under'] =='o')),\n",
    "    ((sorted_df['Result'] > sorted_df['Pick']) & (sorted_df['over_under'] == 'u')),\n",
    "    (sorted_df['Result'].isna() == True)\n",
    "    ]\n",
    "\n",
    "# create a list of the values we want to assign for each condition\n",
    "values = ['1', '0', '1', '0', np.nan]\n",
    "\n",
    "# create a new column and use np.select to assign values to it using our lists as arguments\n",
    "sorted_df['successful_pick'] = np.select(conditions, values)"
   ]
  },
  {
   "cell_type": "code",
   "execution_count": null,
   "id": "fe224e2e",
   "metadata": {},
   "outputs": [],
   "source": [
    "db = client['nba-data']"
   ]
  },
  {
   "cell_type": "code",
   "execution_count": null,
   "id": "194a443a",
   "metadata": {},
   "outputs": [],
   "source": [
    "collection = db['betting-data']"
   ]
  },
  {
   "cell_type": "code",
   "execution_count": null,
   "id": "a16c8036",
   "metadata": {},
   "outputs": [],
   "source": [
    "collection.insert_many(sorted_df.to_dict('records'))"
   ]
  },
  {
   "cell_type": "markdown",
   "id": "4fddb588",
   "metadata": {},
   "source": [
    "***"
   ]
  },
  {
   "cell_type": "code",
   "execution_count": null,
   "id": "d04a20f9",
   "metadata": {},
   "outputs": [],
   "source": [
    "%reset -fs"
   ]
  },
  {
   "cell_type": "code",
   "execution_count": null,
   "id": "5ca0e9ca",
   "metadata": {
    "scrolled": true
   },
   "outputs": [],
   "source": [
    "import pandas as pd\n",
    "import numpy as np\n",
    "import time, os\n",
    "from datetime import datetime\n",
    "from pymongo import MongoClient\n",
    "from dotenv import load_dotenv\n",
    "from sportsipy.nba.boxscore import Boxscores\n",
    "from sportsipy.nba.schedule import Boxscore\n",
    "pd.set_option('display.width', 1000)\n",
    "pd.set_option('display.max_columns', None)"
   ]
  },
  {
   "cell_type": "code",
   "execution_count": null,
   "id": "8898c4c7",
   "metadata": {},
   "outputs": [],
   "source": [
    "load_dotenv()"
   ]
  },
  {
   "cell_type": "code",
   "execution_count": null,
   "id": "b0ea019e",
   "metadata": {},
   "outputs": [],
   "source": [
    "mongo_pw = os.environ.get(\"MONGO_PW\")"
   ]
  },
  {
   "cell_type": "code",
   "execution_count": null,
   "id": "d6558fd8",
   "metadata": {},
   "outputs": [],
   "source": [
    "client = MongoClient('mongodb+srv://natedirenzo:' + mongo_pw + '@nba-db.grcwg.mongodb.net/myFirstDatabase?retryWrites=true&w=majority')\n"
   ]
  },
  {
   "cell_type": "code",
   "execution_count": null,
   "id": "fe224e2e",
   "metadata": {},
   "outputs": [],
   "source": [
    "db = client['nba-data']"
   ]
  },
  {
   "cell_type": "code",
   "execution_count": null,
   "id": "194a443a",
   "metadata": {},
   "outputs": [],
   "source": [
    "cursor = db['betting-data'].find()"
   ]
  },
  {
   "cell_type": "code",
   "execution_count": null,
   "id": "1090d248",
   "metadata": {},
   "outputs": [],
   "source": [
    "mongo_df = pd.DataFrame(list(cursor)); mongo_df"
   ]
  },
  {
   "cell_type": "code",
   "execution_count": null,
   "id": "26e5260a",
   "metadata": {},
   "outputs": [],
   "source": [
    "games = Boxscores(datetime(2021, 10, 19), datetime(2022, 4, 2))\n"
   ]
  },
  {
   "cell_type": "code",
   "execution_count": null,
   "id": "fef00aca",
   "metadata": {},
   "outputs": [],
   "source": [
    "games = games.games"
   ]
  },
  {
   "cell_type": "code",
   "execution_count": null,
   "id": "679932ca",
   "metadata": {},
   "outputs": [],
   "source": [
    "uri_list = []\n",
    "for i in games.keys():\n",
    "    for j in games[i]:\n",
    "        uri_list.append(j['boxscore'])"
   ]
  },
  {
   "cell_type": "code",
   "execution_count": null,
   "id": "caa522fd",
   "metadata": {},
   "outputs": [],
   "source": [
    "def get_data(uri):\n",
    "    boxscore = Boxscore(uri)\n",
    "    final_stats_df = pd.DataFrame()\n",
    "    \n",
    "    home_df = boxscore.home_players[0].dataframe\n",
    "    for player in boxscore.home_players[1:]:\n",
    "        home_df = pd.concat([home_df, player.dataframe], axis = 0)\n",
    "    home_df['name'] = [x.name for x in boxscore.home_players]\n",
    "    home_df\n",
    "    \n",
    "    away_df = boxscore.away_players[0].dataframe\n",
    "    for player in boxscore.away_players[1:]:\n",
    "        away_df = pd.concat([away_df, player.dataframe], axis = 0)\n",
    "    away_df['name'] = [x.name for x in boxscore.away_players]\n",
    "    \n",
    "    player_stats = [home_df, away_df]\n",
    "    stats_df = pd.concat(player_stats)\n",
    "    pd.concat([final_stats_df, stats_df])\n",
    "    return final_stats_df\n",
    "\n",
    "    "
   ]
  },
  {
   "cell_type": "code",
   "execution_count": null,
   "id": "c0de392c",
   "metadata": {},
   "outputs": [],
   "source": []
  }
 ],
 "metadata": {
  "interpreter": {
   "hash": "eeda09e8682780dc1dbad7711462886786ede58877e15e2f55a2f4f20b8e3e86"
  },
  "kernelspec": {
   "display_name": "Python [conda env:metis] *",
   "language": "python",
   "name": "python3"
  },
  "language_info": {
   "codemirror_mode": {
    "name": "ipython",
    "version": 3
   },
   "file_extension": ".py",
   "mimetype": "text/x-python",
   "name": "python",
   "nbconvert_exporter": "python",
   "pygments_lexer": "ipython3",
   "version": "3.8.12"
  }
 },
 "nbformat": 4,
 "nbformat_minor": 5
}
